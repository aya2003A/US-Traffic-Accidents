{
 "cells": [
  {
   "cell_type": "code",
   "execution_count": 1,
   "id": "593cc6d2",
   "metadata": {
    "_cell_guid": "b1076dfc-b9ad-4769-8c92-a6c4dae69d19",
    "_uuid": "8f2839f25d086af736a60e9eeb907d3b93b6e0e5",
    "execution": {
     "iopub.execute_input": "2021-12-28T18:23:34.021381Z",
     "iopub.status.busy": "2021-12-28T18:23:34.020771Z",
     "iopub.status.idle": "2021-12-28T18:23:34.027512Z",
     "shell.execute_reply": "2021-12-28T18:23:34.026827Z",
     "shell.execute_reply.started": "2021-12-28T18:12:34.021918Z"
    },
    "papermill": {
     "duration": 0.046147,
     "end_time": "2021-12-28T18:23:34.027714",
     "exception": false,
     "start_time": "2021-12-28T18:23:33.981567",
     "status": "completed"
    },
    "tags": []
   },
   "outputs": [],
   "source": [
    "import numpy as np\n",
    "import pandas as pd\n",
    "import matplotlib.pyplot as plt"
   ]
  },
  {
   "cell_type": "code",
   "execution_count": null,
   "id": "7cf92801",
   "metadata": {
    "execution": {
     "iopub.execute_input": "2021-12-28T18:23:34.090539Z",
     "iopub.status.busy": "2021-12-28T18:23:34.089909Z",
     "iopub.status.idle": "2021-12-28T18:23:55.481549Z",
     "shell.execute_reply": "2021-12-28T18:23:55.481013Z",
     "shell.execute_reply.started": "2021-12-28T18:13:14.585257Z"
    },
    "papermill": {
     "duration": 21.424795,
     "end_time": "2021-12-28T18:23:55.481821",
     "exception": false,
     "start_time": "2021-12-28T18:23:34.057026",
     "status": "completed"
    },
    "tags": []
   },
   "outputs": [],
   "source": [
    "df = pd.read_csv(\"US_Accidents_Dec20_updated.csv\")"
   ]
  },
  {
   "cell_type": "code",
   "execution_count": 3,
   "id": "770fa0fa",
   "metadata": {
    "execution": {
     "iopub.execute_input": "2021-12-28T18:23:55.554133Z",
     "iopub.status.busy": "2021-12-28T18:23:55.546634Z",
     "iopub.status.idle": "2021-12-28T18:23:55.580288Z",
     "shell.execute_reply": "2021-12-28T18:23:55.580811Z",
     "shell.execute_reply.started": "2021-12-28T18:13:35.086161Z"
    },
    "papermill": {
     "duration": 0.070383,
     "end_time": "2021-12-28T18:23:55.580994",
     "exception": false,
     "start_time": "2021-12-28T18:23:55.510611",
     "status": "completed"
    },
    "tags": []
   },
   "outputs": [
    {
     "data": {
      "text/html": [
       "<div>\n",
       "<style scoped>\n",
       "    .dataframe tbody tr th:only-of-type {\n",
       "        vertical-align: middle;\n",
       "    }\n",
       "\n",
       "    .dataframe tbody tr th {\n",
       "        vertical-align: top;\n",
       "    }\n",
       "\n",
       "    .dataframe thead th {\n",
       "        text-align: right;\n",
       "    }\n",
       "</style>\n",
       "<table border=\"1\" class=\"dataframe\">\n",
       "  <thead>\n",
       "    <tr style=\"text-align: right;\">\n",
       "      <th></th>\n",
       "      <th>ID</th>\n",
       "      <th>Severity</th>\n",
       "      <th>Start_Time</th>\n",
       "      <th>End_Time</th>\n",
       "      <th>Start_Lat</th>\n",
       "      <th>Start_Lng</th>\n",
       "      <th>End_Lat</th>\n",
       "      <th>End_Lng</th>\n",
       "      <th>Distance(mi)</th>\n",
       "      <th>Description</th>\n",
       "      <th>...</th>\n",
       "      <th>Roundabout</th>\n",
       "      <th>Station</th>\n",
       "      <th>Stop</th>\n",
       "      <th>Traffic_Calming</th>\n",
       "      <th>Traffic_Signal</th>\n",
       "      <th>Turning_Loop</th>\n",
       "      <th>Sunrise_Sunset</th>\n",
       "      <th>Civil_Twilight</th>\n",
       "      <th>Nautical_Twilight</th>\n",
       "      <th>Astronomical_Twilight</th>\n",
       "    </tr>\n",
       "  </thead>\n",
       "  <tbody>\n",
       "    <tr>\n",
       "      <th>0</th>\n",
       "      <td>A-2716600</td>\n",
       "      <td>3</td>\n",
       "      <td>2016-02-08 00:37:08</td>\n",
       "      <td>2016-02-08 06:37:08</td>\n",
       "      <td>40.10891</td>\n",
       "      <td>-83.09286</td>\n",
       "      <td>40.11206</td>\n",
       "      <td>-83.03187</td>\n",
       "      <td>3.230</td>\n",
       "      <td>Between Sawmill Rd/Exit 20 and OH-315/Olentang...</td>\n",
       "      <td>...</td>\n",
       "      <td>False</td>\n",
       "      <td>False</td>\n",
       "      <td>False</td>\n",
       "      <td>False</td>\n",
       "      <td>False</td>\n",
       "      <td>False</td>\n",
       "      <td>Night</td>\n",
       "      <td>Night</td>\n",
       "      <td>Night</td>\n",
       "      <td>Night</td>\n",
       "    </tr>\n",
       "    <tr>\n",
       "      <th>1</th>\n",
       "      <td>A-2716601</td>\n",
       "      <td>2</td>\n",
       "      <td>2016-02-08 05:56:20</td>\n",
       "      <td>2016-02-08 11:56:20</td>\n",
       "      <td>39.86542</td>\n",
       "      <td>-84.06280</td>\n",
       "      <td>39.86501</td>\n",
       "      <td>-84.04873</td>\n",
       "      <td>0.747</td>\n",
       "      <td>At OH-4/OH-235/Exit 41 - Accident.</td>\n",
       "      <td>...</td>\n",
       "      <td>False</td>\n",
       "      <td>False</td>\n",
       "      <td>False</td>\n",
       "      <td>False</td>\n",
       "      <td>False</td>\n",
       "      <td>False</td>\n",
       "      <td>Night</td>\n",
       "      <td>Night</td>\n",
       "      <td>Night</td>\n",
       "      <td>Night</td>\n",
       "    </tr>\n",
       "    <tr>\n",
       "      <th>2</th>\n",
       "      <td>A-2716602</td>\n",
       "      <td>2</td>\n",
       "      <td>2016-02-08 06:15:39</td>\n",
       "      <td>2016-02-08 12:15:39</td>\n",
       "      <td>39.10266</td>\n",
       "      <td>-84.52468</td>\n",
       "      <td>39.10209</td>\n",
       "      <td>-84.52396</td>\n",
       "      <td>0.055</td>\n",
       "      <td>At I-71/US-50/Exit 1 - Accident.</td>\n",
       "      <td>...</td>\n",
       "      <td>False</td>\n",
       "      <td>False</td>\n",
       "      <td>False</td>\n",
       "      <td>False</td>\n",
       "      <td>False</td>\n",
       "      <td>False</td>\n",
       "      <td>Night</td>\n",
       "      <td>Night</td>\n",
       "      <td>Night</td>\n",
       "      <td>Day</td>\n",
       "    </tr>\n",
       "    <tr>\n",
       "      <th>3</th>\n",
       "      <td>A-2716603</td>\n",
       "      <td>2</td>\n",
       "      <td>2016-02-08 06:15:39</td>\n",
       "      <td>2016-02-08 12:15:39</td>\n",
       "      <td>39.10148</td>\n",
       "      <td>-84.52341</td>\n",
       "      <td>39.09841</td>\n",
       "      <td>-84.52241</td>\n",
       "      <td>0.219</td>\n",
       "      <td>At I-71/US-50/Exit 1 - Accident.</td>\n",
       "      <td>...</td>\n",
       "      <td>False</td>\n",
       "      <td>False</td>\n",
       "      <td>False</td>\n",
       "      <td>False</td>\n",
       "      <td>False</td>\n",
       "      <td>False</td>\n",
       "      <td>Night</td>\n",
       "      <td>Night</td>\n",
       "      <td>Night</td>\n",
       "      <td>Day</td>\n",
       "    </tr>\n",
       "    <tr>\n",
       "      <th>4</th>\n",
       "      <td>A-2716604</td>\n",
       "      <td>2</td>\n",
       "      <td>2016-02-08 06:51:45</td>\n",
       "      <td>2016-02-08 12:51:45</td>\n",
       "      <td>41.06213</td>\n",
       "      <td>-81.53784</td>\n",
       "      <td>41.06217</td>\n",
       "      <td>-81.53547</td>\n",
       "      <td>0.123</td>\n",
       "      <td>At Dart Ave/Exit 21 - Accident.</td>\n",
       "      <td>...</td>\n",
       "      <td>False</td>\n",
       "      <td>False</td>\n",
       "      <td>False</td>\n",
       "      <td>False</td>\n",
       "      <td>False</td>\n",
       "      <td>False</td>\n",
       "      <td>Night</td>\n",
       "      <td>Night</td>\n",
       "      <td>Day</td>\n",
       "      <td>Day</td>\n",
       "    </tr>\n",
       "  </tbody>\n",
       "</table>\n",
       "<p>5 rows × 47 columns</p>\n",
       "</div>"
      ],
      "text/plain": [
       "          ID  Severity           Start_Time             End_Time  Start_Lat  \\\n",
       "0  A-2716600         3  2016-02-08 00:37:08  2016-02-08 06:37:08   40.10891   \n",
       "1  A-2716601         2  2016-02-08 05:56:20  2016-02-08 11:56:20   39.86542   \n",
       "2  A-2716602         2  2016-02-08 06:15:39  2016-02-08 12:15:39   39.10266   \n",
       "3  A-2716603         2  2016-02-08 06:15:39  2016-02-08 12:15:39   39.10148   \n",
       "4  A-2716604         2  2016-02-08 06:51:45  2016-02-08 12:51:45   41.06213   \n",
       "\n",
       "   Start_Lng   End_Lat   End_Lng  Distance(mi)  \\\n",
       "0  -83.09286  40.11206 -83.03187         3.230   \n",
       "1  -84.06280  39.86501 -84.04873         0.747   \n",
       "2  -84.52468  39.10209 -84.52396         0.055   \n",
       "3  -84.52341  39.09841 -84.52241         0.219   \n",
       "4  -81.53784  41.06217 -81.53547         0.123   \n",
       "\n",
       "                                         Description  ...  Roundabout Station  \\\n",
       "0  Between Sawmill Rd/Exit 20 and OH-315/Olentang...  ...       False   False   \n",
       "1                 At OH-4/OH-235/Exit 41 - Accident.  ...       False   False   \n",
       "2                   At I-71/US-50/Exit 1 - Accident.  ...       False   False   \n",
       "3                   At I-71/US-50/Exit 1 - Accident.  ...       False   False   \n",
       "4                    At Dart Ave/Exit 21 - Accident.  ...       False   False   \n",
       "\n",
       "    Stop Traffic_Calming Traffic_Signal Turning_Loop Sunrise_Sunset  \\\n",
       "0  False           False          False        False          Night   \n",
       "1  False           False          False        False          Night   \n",
       "2  False           False          False        False          Night   \n",
       "3  False           False          False        False          Night   \n",
       "4  False           False          False        False          Night   \n",
       "\n",
       "  Civil_Twilight Nautical_Twilight Astronomical_Twilight  \n",
       "0          Night             Night                 Night  \n",
       "1          Night             Night                 Night  \n",
       "2          Night             Night                   Day  \n",
       "3          Night             Night                   Day  \n",
       "4          Night               Day                   Day  \n",
       "\n",
       "[5 rows x 47 columns]"
      ]
     },
     "execution_count": 3,
     "metadata": {},
     "output_type": "execute_result"
    }
   ],
   "source": [
    "df.head()"
   ]
  },
  {
   "cell_type": "code",
   "execution_count": 4,
   "id": "cb429bdd",
   "metadata": {
    "execution": {
     "iopub.execute_input": "2021-12-28T18:23:55.647424Z",
     "iopub.status.busy": "2021-12-28T18:23:55.643132Z",
     "iopub.status.idle": "2021-12-28T18:23:59.035294Z",
     "shell.execute_reply": "2021-12-28T18:23:59.034518Z",
     "shell.execute_reply.started": "2021-12-28T18:13:39.741592Z"
    },
    "papermill": {
     "duration": 3.424745,
     "end_time": "2021-12-28T18:23:59.035450",
     "exception": false,
     "start_time": "2021-12-28T18:23:55.610705",
     "status": "completed"
    },
    "tags": []
   },
   "outputs": [
    {
     "name": "stdout",
     "output_type": "stream",
     "text": [
      "<class 'pandas.core.frame.DataFrame'>\n",
      "RangeIndex: 1516064 entries, 0 to 1516063\n",
      "Data columns (total 47 columns):\n",
      " #   Column                 Non-Null Count    Dtype  \n",
      "---  ------                 --------------    -----  \n",
      " 0   ID                     1516064 non-null  object \n",
      " 1   Severity               1516064 non-null  int64  \n",
      " 2   Start_Time             1516064 non-null  object \n",
      " 3   End_Time               1516064 non-null  object \n",
      " 4   Start_Lat              1516064 non-null  float64\n",
      " 5   Start_Lng              1516064 non-null  float64\n",
      " 6   End_Lat                1516064 non-null  float64\n",
      " 7   End_Lng                1516064 non-null  float64\n",
      " 8   Distance(mi)           1516064 non-null  float64\n",
      " 9   Description            1516064 non-null  object \n",
      " 10  Number                 469969 non-null   float64\n",
      " 11  Street                 1516064 non-null  object \n",
      " 12  Side                   1516064 non-null  object \n",
      " 13  City                   1515981 non-null  object \n",
      " 14  County                 1516064 non-null  object \n",
      " 15  State                  1516064 non-null  object \n",
      " 16  Zipcode                1515129 non-null  object \n",
      " 17  Country                1516064 non-null  object \n",
      " 18  Timezone               1513762 non-null  object \n",
      " 19  Airport_Code           1511816 non-null  object \n",
      " 20  Weather_Timestamp      1485800 non-null  object \n",
      " 21  Temperature(F)         1473031 non-null  float64\n",
      " 22  Wind_Chill(F)          1066748 non-null  float64\n",
      " 23  Humidity(%)            1470555 non-null  float64\n",
      " 24  Pressure(in)           1479790 non-null  float64\n",
      " 25  Visibility(mi)         1471853 non-null  float64\n",
      " 26  Wind_Direction         1474206 non-null  object \n",
      " 27  Wind_Speed(mph)        1387202 non-null  float64\n",
      " 28  Precipitation(in)      1005515 non-null  float64\n",
      " 29  Weather_Condition      1472057 non-null  object \n",
      " 30  Amenity                1516064 non-null  bool   \n",
      " 31  Bump                   1516064 non-null  bool   \n",
      " 32  Crossing               1516064 non-null  bool   \n",
      " 33  Give_Way               1516064 non-null  bool   \n",
      " 34  Junction               1516064 non-null  bool   \n",
      " 35  No_Exit                1516064 non-null  bool   \n",
      " 36  Railway                1516064 non-null  bool   \n",
      " 37  Roundabout             1516064 non-null  bool   \n",
      " 38  Station                1516064 non-null  bool   \n",
      " 39  Stop                   1516064 non-null  bool   \n",
      " 40  Traffic_Calming        1516064 non-null  bool   \n",
      " 41  Traffic_Signal         1516064 non-null  bool   \n",
      " 42  Turning_Loop           1516064 non-null  bool   \n",
      " 43  Sunrise_Sunset         1515981 non-null  object \n",
      " 44  Civil_Twilight         1515981 non-null  object \n",
      " 45  Nautical_Twilight      1515981 non-null  object \n",
      " 46  Astronomical_Twilight  1515981 non-null  object \n",
      "dtypes: bool(13), float64(13), int64(1), object(20)\n",
      "memory usage: 412.1+ MB\n"
     ]
    }
   ],
   "source": [
    "df.info()"
   ]
  },
  {
   "cell_type": "code",
   "execution_count": 5,
   "id": "b228bc6a",
   "metadata": {
    "execution": {
     "iopub.execute_input": "2021-12-28T18:23:59.163417Z",
     "iopub.status.busy": "2021-12-28T18:23:59.162392Z",
     "iopub.status.idle": "2021-12-28T18:23:59.880533Z",
     "shell.execute_reply": "2021-12-28T18:23:59.879906Z",
     "shell.execute_reply.started": "2021-12-28T18:13:44.594562Z"
    },
    "papermill": {
     "duration": 0.814231,
     "end_time": "2021-12-28T18:23:59.880668",
     "exception": false,
     "start_time": "2021-12-28T18:23:59.066437",
     "status": "completed"
    },
    "tags": []
   },
   "outputs": [
    {
     "data": {
      "text/html": [
       "<div>\n",
       "<style scoped>\n",
       "    .dataframe tbody tr th:only-of-type {\n",
       "        vertical-align: middle;\n",
       "    }\n",
       "\n",
       "    .dataframe tbody tr th {\n",
       "        vertical-align: top;\n",
       "    }\n",
       "\n",
       "    .dataframe thead th {\n",
       "        text-align: right;\n",
       "    }\n",
       "</style>\n",
       "<table border=\"1\" class=\"dataframe\">\n",
       "  <thead>\n",
       "    <tr style=\"text-align: right;\">\n",
       "      <th></th>\n",
       "      <th>Severity</th>\n",
       "      <th>Start_Lat</th>\n",
       "      <th>Start_Lng</th>\n",
       "      <th>End_Lat</th>\n",
       "      <th>End_Lng</th>\n",
       "      <th>Distance(mi)</th>\n",
       "      <th>Number</th>\n",
       "      <th>Temperature(F)</th>\n",
       "      <th>Wind_Chill(F)</th>\n",
       "      <th>Humidity(%)</th>\n",
       "      <th>Pressure(in)</th>\n",
       "      <th>Visibility(mi)</th>\n",
       "      <th>Wind_Speed(mph)</th>\n",
       "      <th>Precipitation(in)</th>\n",
       "    </tr>\n",
       "  </thead>\n",
       "  <tbody>\n",
       "    <tr>\n",
       "      <th>count</th>\n",
       "      <td>1.516064e+06</td>\n",
       "      <td>1.516064e+06</td>\n",
       "      <td>1.516064e+06</td>\n",
       "      <td>1.516064e+06</td>\n",
       "      <td>1.516064e+06</td>\n",
       "      <td>1.516064e+06</td>\n",
       "      <td>4.699690e+05</td>\n",
       "      <td>1.473031e+06</td>\n",
       "      <td>1.066748e+06</td>\n",
       "      <td>1.470555e+06</td>\n",
       "      <td>1.479790e+06</td>\n",
       "      <td>1.471853e+06</td>\n",
       "      <td>1.387202e+06</td>\n",
       "      <td>1.005515e+06</td>\n",
       "    </tr>\n",
       "    <tr>\n",
       "      <th>mean</th>\n",
       "      <td>2.238630e+00</td>\n",
       "      <td>3.690056e+01</td>\n",
       "      <td>-9.859919e+01</td>\n",
       "      <td>3.690061e+01</td>\n",
       "      <td>-9.859901e+01</td>\n",
       "      <td>5.872617e-01</td>\n",
       "      <td>8.907533e+03</td>\n",
       "      <td>5.958460e+01</td>\n",
       "      <td>5.510976e+01</td>\n",
       "      <td>6.465960e+01</td>\n",
       "      <td>2.955495e+01</td>\n",
       "      <td>9.131755e+00</td>\n",
       "      <td>7.630812e+00</td>\n",
       "      <td>8.477855e-03</td>\n",
       "    </tr>\n",
       "    <tr>\n",
       "      <th>std</th>\n",
       "      <td>6.081481e-01</td>\n",
       "      <td>5.165653e+00</td>\n",
       "      <td>1.849602e+01</td>\n",
       "      <td>5.165629e+00</td>\n",
       "      <td>1.849590e+01</td>\n",
       "      <td>1.632659e+00</td>\n",
       "      <td>2.242190e+04</td>\n",
       "      <td>1.827316e+01</td>\n",
       "      <td>2.112735e+01</td>\n",
       "      <td>2.325986e+01</td>\n",
       "      <td>1.016756e+00</td>\n",
       "      <td>2.889112e+00</td>\n",
       "      <td>5.637364e+00</td>\n",
       "      <td>1.293168e-01</td>\n",
       "    </tr>\n",
       "    <tr>\n",
       "      <th>min</th>\n",
       "      <td>1.000000e+00</td>\n",
       "      <td>2.457022e+01</td>\n",
       "      <td>-1.244976e+02</td>\n",
       "      <td>2.457011e+01</td>\n",
       "      <td>-1.244978e+02</td>\n",
       "      <td>0.000000e+00</td>\n",
       "      <td>0.000000e+00</td>\n",
       "      <td>-8.900000e+01</td>\n",
       "      <td>-8.900000e+01</td>\n",
       "      <td>1.000000e+00</td>\n",
       "      <td>0.000000e+00</td>\n",
       "      <td>0.000000e+00</td>\n",
       "      <td>0.000000e+00</td>\n",
       "      <td>0.000000e+00</td>\n",
       "    </tr>\n",
       "    <tr>\n",
       "      <th>25%</th>\n",
       "      <td>2.000000e+00</td>\n",
       "      <td>3.385422e+01</td>\n",
       "      <td>-1.182076e+02</td>\n",
       "      <td>3.385420e+01</td>\n",
       "      <td>-1.182077e+02</td>\n",
       "      <td>0.000000e+00</td>\n",
       "      <td>1.212000e+03</td>\n",
       "      <td>4.700000e+01</td>\n",
       "      <td>4.080000e+01</td>\n",
       "      <td>4.800000e+01</td>\n",
       "      <td>2.944000e+01</td>\n",
       "      <td>1.000000e+01</td>\n",
       "      <td>4.600000e+00</td>\n",
       "      <td>0.000000e+00</td>\n",
       "    </tr>\n",
       "    <tr>\n",
       "      <th>50%</th>\n",
       "      <td>2.000000e+00</td>\n",
       "      <td>3.735113e+01</td>\n",
       "      <td>-9.438100e+01</td>\n",
       "      <td>3.735134e+01</td>\n",
       "      <td>-9.437987e+01</td>\n",
       "      <td>1.780000e-01</td>\n",
       "      <td>4.000000e+03</td>\n",
       "      <td>6.100000e+01</td>\n",
       "      <td>5.700000e+01</td>\n",
       "      <td>6.800000e+01</td>\n",
       "      <td>2.988000e+01</td>\n",
       "      <td>1.000000e+01</td>\n",
       "      <td>7.000000e+00</td>\n",
       "      <td>0.000000e+00</td>\n",
       "    </tr>\n",
       "    <tr>\n",
       "      <th>75%</th>\n",
       "      <td>2.000000e+00</td>\n",
       "      <td>4.072593e+01</td>\n",
       "      <td>-8.087469e+01</td>\n",
       "      <td>4.072593e+01</td>\n",
       "      <td>-8.087449e+01</td>\n",
       "      <td>5.940000e-01</td>\n",
       "      <td>1.010000e+04</td>\n",
       "      <td>7.300000e+01</td>\n",
       "      <td>7.100000e+01</td>\n",
       "      <td>8.400000e+01</td>\n",
       "      <td>3.004000e+01</td>\n",
       "      <td>1.000000e+01</td>\n",
       "      <td>1.040000e+01</td>\n",
       "      <td>0.000000e+00</td>\n",
       "    </tr>\n",
       "    <tr>\n",
       "      <th>max</th>\n",
       "      <td>4.000000e+00</td>\n",
       "      <td>4.900058e+01</td>\n",
       "      <td>-6.711317e+01</td>\n",
       "      <td>4.907500e+01</td>\n",
       "      <td>-6.710924e+01</td>\n",
       "      <td>1.551860e+02</td>\n",
       "      <td>9.999997e+06</td>\n",
       "      <td>1.706000e+02</td>\n",
       "      <td>1.130000e+02</td>\n",
       "      <td>1.000000e+02</td>\n",
       "      <td>5.804000e+01</td>\n",
       "      <td>1.400000e+02</td>\n",
       "      <td>9.840000e+02</td>\n",
       "      <td>2.400000e+01</td>\n",
       "    </tr>\n",
       "  </tbody>\n",
       "</table>\n",
       "</div>"
      ],
      "text/plain": [
       "           Severity     Start_Lat     Start_Lng       End_Lat       End_Lng  \\\n",
       "count  1.516064e+06  1.516064e+06  1.516064e+06  1.516064e+06  1.516064e+06   \n",
       "mean   2.238630e+00  3.690056e+01 -9.859919e+01  3.690061e+01 -9.859901e+01   \n",
       "std    6.081481e-01  5.165653e+00  1.849602e+01  5.165629e+00  1.849590e+01   \n",
       "min    1.000000e+00  2.457022e+01 -1.244976e+02  2.457011e+01 -1.244978e+02   \n",
       "25%    2.000000e+00  3.385422e+01 -1.182076e+02  3.385420e+01 -1.182077e+02   \n",
       "50%    2.000000e+00  3.735113e+01 -9.438100e+01  3.735134e+01 -9.437987e+01   \n",
       "75%    2.000000e+00  4.072593e+01 -8.087469e+01  4.072593e+01 -8.087449e+01   \n",
       "max    4.000000e+00  4.900058e+01 -6.711317e+01  4.907500e+01 -6.710924e+01   \n",
       "\n",
       "       Distance(mi)        Number  Temperature(F)  Wind_Chill(F)  \\\n",
       "count  1.516064e+06  4.699690e+05    1.473031e+06   1.066748e+06   \n",
       "mean   5.872617e-01  8.907533e+03    5.958460e+01   5.510976e+01   \n",
       "std    1.632659e+00  2.242190e+04    1.827316e+01   2.112735e+01   \n",
       "min    0.000000e+00  0.000000e+00   -8.900000e+01  -8.900000e+01   \n",
       "25%    0.000000e+00  1.212000e+03    4.700000e+01   4.080000e+01   \n",
       "50%    1.780000e-01  4.000000e+03    6.100000e+01   5.700000e+01   \n",
       "75%    5.940000e-01  1.010000e+04    7.300000e+01   7.100000e+01   \n",
       "max    1.551860e+02  9.999997e+06    1.706000e+02   1.130000e+02   \n",
       "\n",
       "        Humidity(%)  Pressure(in)  Visibility(mi)  Wind_Speed(mph)  \\\n",
       "count  1.470555e+06  1.479790e+06    1.471853e+06     1.387202e+06   \n",
       "mean   6.465960e+01  2.955495e+01    9.131755e+00     7.630812e+00   \n",
       "std    2.325986e+01  1.016756e+00    2.889112e+00     5.637364e+00   \n",
       "min    1.000000e+00  0.000000e+00    0.000000e+00     0.000000e+00   \n",
       "25%    4.800000e+01  2.944000e+01    1.000000e+01     4.600000e+00   \n",
       "50%    6.800000e+01  2.988000e+01    1.000000e+01     7.000000e+00   \n",
       "75%    8.400000e+01  3.004000e+01    1.000000e+01     1.040000e+01   \n",
       "max    1.000000e+02  5.804000e+01    1.400000e+02     9.840000e+02   \n",
       "\n",
       "       Precipitation(in)  \n",
       "count       1.005515e+06  \n",
       "mean        8.477855e-03  \n",
       "std         1.293168e-01  \n",
       "min         0.000000e+00  \n",
       "25%         0.000000e+00  \n",
       "50%         0.000000e+00  \n",
       "75%         0.000000e+00  \n",
       "max         2.400000e+01  "
      ]
     },
     "execution_count": 5,
     "metadata": {},
     "output_type": "execute_result"
    }
   ],
   "source": [
    "df.describe()"
   ]
  },
  {
   "cell_type": "code",
   "execution_count": 6,
   "id": "4fad5354",
   "metadata": {
    "execution": {
     "iopub.execute_input": "2021-12-28T18:24:00.009621Z",
     "iopub.status.busy": "2021-12-28T18:24:00.008946Z",
     "iopub.status.idle": "2021-12-28T18:24:00.013106Z",
     "shell.execute_reply": "2021-12-28T18:24:00.012566Z",
     "shell.execute_reply.started": "2021-12-28T18:14:34.180751Z"
    },
    "papermill": {
     "duration": 0.102059,
     "end_time": "2021-12-28T18:24:00.013249",
     "exception": false,
     "start_time": "2021-12-28T18:23:59.911190",
     "status": "completed"
    },
    "tags": []
   },
   "outputs": [
    {
     "data": {
      "text/plain": [
       "14"
      ]
     },
     "execution_count": 6,
     "metadata": {},
     "output_type": "execute_result"
    }
   ],
   "source": [
    "numerics = ['int16', 'int32', 'int64', 'float16', 'float32', 'float64']\n",
    "\n",
    "numeric_df = df.select_dtypes(include=numerics)\n",
    "len(numeric_df.columns)"
   ]
  },
  {
   "cell_type": "code",
   "execution_count": 7,
   "id": "094cf0c2",
   "metadata": {
    "execution": {
     "iopub.execute_input": "2021-12-28T18:24:00.082526Z",
     "iopub.status.busy": "2021-12-28T18:24:00.081856Z",
     "iopub.status.idle": "2021-12-28T18:24:03.529474Z",
     "shell.execute_reply": "2021-12-28T18:24:03.530105Z",
     "shell.execute_reply.started": "2021-12-28T18:14:42.493054Z"
    },
    "papermill": {
     "duration": 3.484419,
     "end_time": "2021-12-28T18:24:03.530278",
     "exception": false,
     "start_time": "2021-12-28T18:24:00.045859",
     "status": "completed"
    },
    "tags": []
   },
   "outputs": [
    {
     "data": {
      "text/plain": [
       "Number                   0.690007\n",
       "Precipitation(in)        0.336760\n",
       "Wind_Chill(F)            0.296370\n",
       "Wind_Speed(mph)          0.084998\n",
       "Humidity(%)              0.030018\n",
       "Visibility(mi)           0.029162\n",
       "Weather_Condition        0.029027\n",
       "Temperature(F)           0.028385\n",
       "Wind_Direction           0.027610\n",
       "Pressure(in)             0.023926\n",
       "Weather_Timestamp        0.019962\n",
       "Airport_Code             0.002802\n",
       "Timezone                 0.001518\n",
       "Zipcode                  0.000617\n",
       "Sunrise_Sunset           0.000055\n",
       "Civil_Twilight           0.000055\n",
       "Nautical_Twilight        0.000055\n",
       "Astronomical_Twilight    0.000055\n",
       "City                     0.000055\n",
       "Country                  0.000000\n",
       "Give_Way                 0.000000\n",
       "Start_Time               0.000000\n",
       "End_Time                 0.000000\n",
       "Start_Lat                0.000000\n",
       "Turning_Loop             0.000000\n",
       "Traffic_Signal           0.000000\n",
       "Traffic_Calming          0.000000\n",
       "Stop                     0.000000\n",
       "Station                  0.000000\n",
       "Roundabout               0.000000\n",
       "Railway                  0.000000\n",
       "No_Exit                  0.000000\n",
       "Junction                 0.000000\n",
       "Crossing                 0.000000\n",
       "State                    0.000000\n",
       "Bump                     0.000000\n",
       "Amenity                  0.000000\n",
       "Start_Lng                0.000000\n",
       "End_Lat                  0.000000\n",
       "End_Lng                  0.000000\n",
       "Distance(mi)             0.000000\n",
       "Description              0.000000\n",
       "Street                   0.000000\n",
       "Severity                 0.000000\n",
       "Side                     0.000000\n",
       "County                   0.000000\n",
       "ID                       0.000000\n",
       "dtype: float64"
      ]
     },
     "execution_count": 7,
     "metadata": {},
     "output_type": "execute_result"
    }
   ],
   "source": [
    "missing_percentages = df.isna().sum().sort_values(ascending=False) / len(df)\n",
    "missing_percentages"
   ]
  },
  {
   "cell_type": "code",
   "execution_count": 8,
   "id": "ea6f31f4",
   "metadata": {
    "execution": {
     "iopub.execute_input": "2021-12-28T18:24:03.595698Z",
     "iopub.status.busy": "2021-12-28T18:24:03.595073Z",
     "iopub.status.idle": "2021-12-28T18:24:03.599195Z",
     "shell.execute_reply": "2021-12-28T18:24:03.599709Z",
     "shell.execute_reply.started": "2021-12-28T18:15:00.370099Z"
    },
    "papermill": {
     "duration": 0.038362,
     "end_time": "2021-12-28T18:24:03.599866",
     "exception": false,
     "start_time": "2021-12-28T18:24:03.561504",
     "status": "completed"
    },
    "tags": []
   },
   "outputs": [
    {
     "data": {
      "text/plain": [
       "pandas.core.series.Series"
      ]
     },
     "execution_count": 8,
     "metadata": {},
     "output_type": "execute_result"
    }
   ],
   "source": [
    "type(missing_percentages)"
   ]
  },
  {
   "cell_type": "code",
   "execution_count": 9,
   "id": "844ced2a",
   "metadata": {
    "execution": {
     "iopub.execute_input": "2021-12-28T18:24:03.668515Z",
     "iopub.status.busy": "2021-12-28T18:24:03.667869Z",
     "iopub.status.idle": "2021-12-28T18:24:04.133367Z",
     "shell.execute_reply": "2021-12-28T18:24:04.132820Z",
     "shell.execute_reply.started": "2021-12-28T18:15:08.140424Z"
    },
    "papermill": {
     "duration": 0.501788,
     "end_time": "2021-12-28T18:24:04.133509",
     "exception": false,
     "start_time": "2021-12-28T18:24:03.631721",
     "status": "completed"
    },
    "tags": []
   },
   "outputs": [
    {
     "data": {
      "text/plain": [
       "<AxesSubplot:>"
      ]
     },
     "execution_count": 9,
     "metadata": {},
     "output_type": "execute_result"
    },
    {
     "data": {
      "image/png": "[encoded data removed]",
      "text/plain": [
       "<Figure size 432x288 with 1 Axes>"
      ]
     },
     "metadata": {
      "needs_background": "light"
     },
     "output_type": "display_data"
    }
   ],
   "source": [
    "missing_percentages[missing_percentages != 0].plot(kind='barh')"
   ]
  },
  {
   "cell_type": "code",
   "execution_count": 10,
   "id": "9effb7cd",
   "metadata": {
    "execution": {
     "iopub.execute_input": "2021-12-28T18:24:04.202526Z",
     "iopub.status.busy": "2021-12-28T18:24:04.201858Z",
     "iopub.status.idle": "2021-12-28T18:24:04.207322Z",
     "shell.execute_reply": "2021-12-28T18:24:04.207822Z",
     "shell.execute_reply.started": "2021-12-28T18:15:15.132385Z"
    },
    "papermill": {
     "duration": 0.04141,
     "end_time": "2021-12-28T18:24:04.207989",
     "exception": false,
     "start_time": "2021-12-28T18:24:04.166579",
     "status": "completed"
    },
    "tags": []
   },
   "outputs": [
    {
     "data": {
      "text/plain": [
       "Index(['ID', 'Severity', 'Start_Time', 'End_Time', 'Start_Lat', 'Start_Lng',\n",
       "       'End_Lat', 'End_Lng', 'Distance(mi)', 'Description', 'Number', 'Street',\n",
       "       'Side', 'City', 'County', 'State', 'Zipcode', 'Country', 'Timezone',\n",
       "       'Airport_Code', 'Weather_Timestamp', 'Temperature(F)', 'Wind_Chill(F)',\n",
       "       'Humidity(%)', 'Pressure(in)', 'Visibility(mi)', 'Wind_Direction',\n",
       "       'Wind_Speed(mph)', 'Precipitation(in)', 'Weather_Condition', 'Amenity',\n",
       "       'Bump', 'Crossing', 'Give_Way', 'Junction', 'No_Exit', 'Railway',\n",
       "       'Roundabout', 'Station', 'Stop', 'Traffic_Calming', 'Traffic_Signal',\n",
       "       'Turning_Loop', 'Sunrise_Sunset', 'Civil_Twilight', 'Nautical_Twilight',\n",
       "       'Astronomical_Twilight'],\n",
       "      dtype='object')"
      ]
     },
     "execution_count": 10,
     "metadata": {},
     "output_type": "execute_result"
    }
   ],
   "source": [
    "df.columns"
   ]
  },
  {
   "cell_type": "code",
   "execution_count": 11,
   "id": "4c5d594f",
   "metadata": {
    "execution": {
     "iopub.execute_input": "2021-12-28T18:24:04.276743Z",
     "iopub.status.busy": "2021-12-28T18:24:04.276136Z",
     "iopub.status.idle": "2021-12-28T18:24:04.282125Z",
     "shell.execute_reply": "2021-12-28T18:24:04.282701Z",
     "shell.execute_reply.started": "2021-12-28T18:16:20.019914Z"
    },
    "papermill": {
     "duration": 0.041984,
     "end_time": "2021-12-28T18:24:04.282859",
     "exception": false,
     "start_time": "2021-12-28T18:24:04.240875",
     "status": "completed"
    },
    "tags": []
   },
   "outputs": [
    {
     "data": {
      "text/plain": [
       "0               Dublin\n",
       "1               Dayton\n",
       "2           Cincinnati\n",
       "3           Cincinnati\n",
       "4                Akron\n",
       "              ...     \n",
       "1516059      Riverside\n",
       "1516060      San Diego\n",
       "1516061         Orange\n",
       "1516062    Culver City\n",
       "1516063       Highland\n",
       "Name: City, Length: 1516064, dtype: object"
      ]
     },
     "execution_count": 11,
     "metadata": {},
     "output_type": "execute_result"
    }
   ],
   "source": [
    "df.City"
   ]
  },
  {
   "cell_type": "code",
   "execution_count": 12,
   "id": "e506caf9",
   "metadata": {
    "execution": {
     "iopub.execute_input": "2021-12-28T18:24:04.352546Z",
     "iopub.status.busy": "2021-12-28T18:24:04.351937Z",
     "iopub.status.idle": "2021-12-28T18:24:04.553520Z",
     "shell.execute_reply": "2021-12-28T18:24:04.554021Z",
     "shell.execute_reply.started": "2021-12-28T18:16:42.587843Z"
    },
    "papermill": {
     "duration": 0.238258,
     "end_time": "2021-12-28T18:24:04.554190",
     "exception": false,
     "start_time": "2021-12-28T18:24:04.315932",
     "status": "completed"
    },
    "tags": []
   },
   "outputs": [
    {
     "data": {
      "text/plain": [
       "10658"
      ]
     },
     "execution_count": 12,
     "metadata": {},
     "output_type": "execute_result"
    }
   ],
   "source": [
    "cities = df.City.unique()\n",
    "len(cities)"
   ]
  },
  {
   "cell_type": "code",
   "execution_count": 13,
   "id": "9a93b310",
   "metadata": {
    "execution": {
     "iopub.execute_input": "2021-12-28T18:24:04.624587Z",
     "iopub.status.busy": "2021-12-28T18:24:04.623932Z",
     "iopub.status.idle": "2021-12-28T18:24:04.890493Z",
     "shell.execute_reply": "2021-12-28T18:24:04.890957Z",
     "shell.execute_reply.started": "2021-12-28T18:16:50.402833Z"
    },
    "papermill": {
     "duration": 0.303337,
     "end_time": "2021-12-28T18:24:04.891129",
     "exception": false,
     "start_time": "2021-12-28T18:24:04.587792",
     "status": "completed"
    },
    "tags": []
   },
   "outputs": [
    {
     "data": {
      "text/plain": [
       "Los Angeles                     39984\n",
       "Miami                           36233\n",
       "Charlotte                       22203\n",
       "Houston                         20843\n",
       "Dallas                          19497\n",
       "                                ...  \n",
       "Manzanita                           1\n",
       "West Brooklyn                       1\n",
       "Garfield Heights                    1\n",
       "Belding                             1\n",
       "American Fork-Pleasant Grove        1\n",
       "Name: City, Length: 10657, dtype: int64"
      ]
     },
     "execution_count": 13,
     "metadata": {},
     "output_type": "execute_result"
    }
   ],
   "source": [
    "cities_by_accident = df.City.value_counts()\n",
    "cities_by_accident"
   ]
  },
  {
   "cell_type": "code",
   "execution_count": 14,
   "id": "c1a3b0c5",
   "metadata": {
    "execution": {
     "iopub.execute_input": "2021-12-28T18:24:04.967732Z",
     "iopub.status.busy": "2021-12-28T18:24:04.967066Z",
     "iopub.status.idle": "2021-12-28T18:24:04.970744Z",
     "shell.execute_reply": "2021-12-28T18:24:04.970241Z",
     "shell.execute_reply.started": "2021-12-28T18:16:57.198470Z"
    },
    "papermill": {
     "duration": 0.045191,
     "end_time": "2021-12-28T18:24:04.970884",
     "exception": false,
     "start_time": "2021-12-28T18:24:04.925693",
     "status": "completed"
    },
    "tags": []
   },
   "outputs": [
    {
     "data": {
      "text/plain": [
       "Los Angeles     39984\n",
       "Miami           36233\n",
       "Charlotte       22203\n",
       "Houston         20843\n",
       "Dallas          19497\n",
       "Sacramento      18431\n",
       "Orlando         16169\n",
       "Portland        14805\n",
       "San Diego       14090\n",
       "Minneapolis     12653\n",
       "Atlanta         11854\n",
       "Chicago         11507\n",
       "Saint Paul      10084\n",
       "Phoenix          9934\n",
       "Raleigh          9516\n",
       "San Jose         9362\n",
       "Richmond         8472\n",
       "Nashville        8381\n",
       "Riverside        8201\n",
       "Jacksonville     7815\n",
       "Name: City, dtype: int64"
      ]
     },
     "execution_count": 14,
     "metadata": {},
     "output_type": "execute_result"
    }
   ],
   "source": [
    "cities_by_accident[:20]"
   ]
  },
  {
   "cell_type": "code",
   "execution_count": 15,
   "id": "038036e6",
   "metadata": {
    "execution": {
     "iopub.execute_input": "2021-12-28T18:24:05.044891Z",
     "iopub.status.busy": "2021-12-28T18:24:05.044218Z",
     "iopub.status.idle": "2021-12-28T18:24:05.046640Z",
     "shell.execute_reply": "2021-12-28T18:24:05.047136Z",
     "shell.execute_reply.started": "2021-12-28T18:17:07.281134Z"
    },
    "papermill": {
     "duration": 0.04197,
     "end_time": "2021-12-28T18:24:05.047302",
     "exception": false,
     "start_time": "2021-12-28T18:24:05.005332",
     "status": "completed"
    },
    "tags": []
   },
   "outputs": [
    {
     "data": {
      "text/plain": [
       "pandas.core.series.Series"
      ]
     },
     "execution_count": 15,
     "metadata": {},
     "output_type": "execute_result"
    }
   ],
   "source": [
    "type(cities_by_accident)"
   ]
  },
  {
   "cell_type": "code",
   "execution_count": 16,
   "id": "29a5f21b",
   "metadata": {
    "execution": {
     "iopub.execute_input": "2021-12-28T18:24:05.119839Z",
     "iopub.status.busy": "2021-12-28T18:24:05.119198Z",
     "iopub.status.idle": "2021-12-28T18:24:05.428242Z",
     "shell.execute_reply": "2021-12-28T18:24:05.427716Z",
     "shell.execute_reply.started": "2021-12-28T18:17:14.859918Z"
    },
    "papermill": {
     "duration": 0.346255,
     "end_time": "2021-12-28T18:24:05.428383",
     "exception": false,
     "start_time": "2021-12-28T18:24:05.082128",
     "status": "completed"
    },
    "tags": []
   },
   "outputs": [
    {
     "data": {
      "text/plain": [
       "<AxesSubplot:>"
      ]
     },
     "execution_count": 16,
     "metadata": {},
     "output_type": "execute_result"
    },
    {
     "data": {
      "image/png": "[encoded data removed]",
      "text/plain": [
       "<Figure size 432x288 with 1 Axes>"
      ]
     },
     "metadata": {
      "needs_background": "light"
     },
     "output_type": "display_data"
    }
   ],
   "source": [
    "cities_by_accident[:20].plot(kind='barh')"
   ]
  },
  {
   "cell_type": "code",
   "execution_count": 17,
   "id": "4c7e55a8",
   "metadata": {
    "execution": {
     "iopub.execute_input": "2021-12-28T18:24:05.504486Z",
     "iopub.status.busy": "2021-12-28T18:24:05.503864Z",
     "iopub.status.idle": "2021-12-28T18:24:06.427604Z",
     "shell.execute_reply": "2021-12-28T18:24:06.426951Z",
     "shell.execute_reply.started": "2021-12-28T18:17:27.451924Z"
    },
    "papermill": {
     "duration": 0.963336,
     "end_time": "2021-12-28T18:24:06.427775",
     "exception": false,
     "start_time": "2021-12-28T18:24:05.464439",
     "status": "completed"
    },
    "tags": []
   },
   "outputs": [],
   "source": [
    "import seaborn as sns\n",
    "sns.set_style(\"darkgrid\")"
   ]
  },
  {
   "cell_type": "code",
   "execution_count": 18,
   "id": "1c48e398",
   "metadata": {
    "execution": {
     "iopub.execute_input": "2021-12-28T18:24:06.523414Z",
     "iopub.status.busy": "2021-12-28T18:24:06.512538Z",
     "iopub.status.idle": "2021-12-28T18:24:07.771526Z",
     "shell.execute_reply": "2021-12-28T18:24:07.770048Z",
     "shell.execute_reply.started": "2021-12-28T18:17:41.666279Z"
    },
    "papermill": {
     "duration": 1.307681,
     "end_time": "2021-12-28T18:24:07.771700",
     "exception": false,
     "start_time": "2021-12-28T18:24:06.464019",
     "status": "completed"
    },
    "tags": []
   },
   "outputs": [
    {
     "data": {
      "text/plain": [
       "<AxesSubplot:xlabel='City', ylabel='Count'>"
      ]
     },
     "execution_count": 18,
     "metadata": {},
     "output_type": "execute_result"
    },
    {
     "data": {
      "image/png": "[encoded data removed]",
      "text/plain": [
       "<Figure size 432x288 with 1 Axes>"
      ]
     },
     "metadata": {},
     "output_type": "display_data"
    }
   ],
   "source": [
    "sns.histplot(cities_by_accident, log_scale=True)"
   ]
  },
  {
   "cell_type": "code",
   "execution_count": 19,
   "id": "62eef30b",
   "metadata": {
    "execution": {
     "iopub.execute_input": "2021-12-28T18:24:07.853271Z",
     "iopub.status.busy": "2021-12-28T18:24:07.852603Z",
     "iopub.status.idle": "2021-12-28T18:24:07.855976Z",
     "shell.execute_reply": "2021-12-28T18:24:07.855345Z",
     "shell.execute_reply.started": "2021-12-28T18:17:48.419822Z"
    },
    "papermill": {
     "duration": 0.047487,
     "end_time": "2021-12-28T18:24:07.856117",
     "exception": false,
     "start_time": "2021-12-28T18:24:07.808630",
     "status": "completed"
    },
    "tags": []
   },
   "outputs": [
    {
     "data": {
      "text/plain": [
       "South Paris                     1\n",
       "Aberdeen Proving Ground         1\n",
       "Rebecca                         1\n",
       "Hiltons                         1\n",
       "Jeanerette                      1\n",
       "                               ..\n",
       "Manzanita                       1\n",
       "West Brooklyn                   1\n",
       "Garfield Heights                1\n",
       "Belding                         1\n",
       "American Fork-Pleasant Grove    1\n",
       "Name: City, Length: 1167, dtype: int64"
      ]
     },
     "execution_count": 19,
     "metadata": {},
     "output_type": "execute_result"
    }
   ],
   "source": [
    "cities_by_accident[cities_by_accident == 1]"
   ]
  },
  {
   "cell_type": "code",
   "execution_count": 20,
   "id": "d5f32057",
   "metadata": {
    "execution": {
     "iopub.execute_input": "2021-12-28T18:24:07.938122Z",
     "iopub.status.busy": "2021-12-28T18:24:07.937475Z",
     "iopub.status.idle": "2021-12-28T18:24:07.940711Z",
     "shell.execute_reply": "2021-12-28T18:24:07.940122Z",
     "shell.execute_reply.started": "2021-12-28T18:18:11.018668Z"
    },
    "papermill": {
     "duration": 0.047204,
     "end_time": "2021-12-28T18:24:07.940844",
     "exception": false,
     "start_time": "2021-12-28T18:24:07.893640",
     "status": "completed"
    },
    "tags": []
   },
   "outputs": [
    {
     "data": {
      "text/plain": [
       "0          2016-02-08 00:37:08\n",
       "1          2016-02-08 05:56:20\n",
       "2          2016-02-08 06:15:39\n",
       "3          2016-02-08 06:15:39\n",
       "4          2016-02-08 06:51:45\n",
       "                  ...         \n",
       "1516059    2019-08-23 18:03:25\n",
       "1516060    2019-08-23 19:11:30\n",
       "1516061    2019-08-23 19:00:21\n",
       "1516062    2019-08-23 19:00:21\n",
       "1516063    2019-08-23 18:52:06\n",
       "Name: Start_Time, Length: 1516064, dtype: object"
      ]
     },
     "execution_count": 20,
     "metadata": {},
     "output_type": "execute_result"
    }
   ],
   "source": [
    "df.Start_Time"
   ]
  },
  {
   "cell_type": "code",
   "execution_count": 21,
   "id": "fae5b1c6",
   "metadata": {
    "execution": {
     "iopub.execute_input": "2021-12-28T18:24:08.525892Z",
     "iopub.status.busy": "2021-12-28T18:24:08.522198Z",
     "iopub.status.idle": "2021-12-28T18:24:08.918964Z",
     "shell.execute_reply": "2021-12-28T18:24:08.918411Z",
     "shell.execute_reply.started": "2021-12-28T18:18:21.687875Z"
    },
    "papermill": {
     "duration": 0.940262,
     "end_time": "2021-12-28T18:24:08.919110",
     "exception": false,
     "start_time": "2021-12-28T18:24:07.978848",
     "status": "completed"
    },
    "tags": []
   },
   "outputs": [],
   "source": [
    "df.Start_Time = pd.to_datetime(df.Start_Time)"
   ]
  },
  {
   "cell_type": "code",
   "execution_count": 22,
   "id": "814833a8",
   "metadata": {
    "execution": {
     "iopub.execute_input": "2021-12-28T18:24:09.001207Z",
     "iopub.status.busy": "2021-12-28T18:24:09.000344Z",
     "iopub.status.idle": "2021-12-28T18:24:09.533798Z",
     "shell.execute_reply": "2021-12-28T18:24:09.532568Z",
     "shell.execute_reply.started": "2021-12-28T18:18:45.152880Z"
    },
    "papermill": {
     "duration": 0.577054,
     "end_time": "2021-12-28T18:24:09.533994",
     "exception": false,
     "start_time": "2021-12-28T18:24:08.956940",
     "status": "completed"
    },
    "tags": []
   },
   "outputs": [
    {
     "name": "stderr",
     "output_type": "stream",
     "text": [
      "/opt/conda/lib/python3.7/site-packages/seaborn/distributions.py:2619: FutureWarning: `distplot` is a deprecated function and will be removed in a future version. Please adapt your code to use either `displot` (a figure-level function with similar flexibility) or `histplot` (an axes-level function for histograms).\n",
      "  warnings.warn(msg, FutureWarning)\n"
     ]
    },
    {
     "data": {
      "text/plain": [
       "<AxesSubplot:xlabel='Start_Time'>"
      ]
     },
     "execution_count": 22,
     "metadata": {},
     "output_type": "execute_result"
    },
    {
     "data": {
      "image/png": "[encoded data removed]",
      "text/plain": [
       "<Figure size 432x288 with 1 Axes>"
      ]
     },
     "metadata": {},
     "output_type": "display_data"
    }
   ],
   "source": [
    "sns.distplot(df.Start_Time.dt.hour, bins=24, kde=False, norm_hist=True)"
   ]
  },
  {
   "cell_type": "code",
   "execution_count": 23,
   "id": "77d4f8bc",
   "metadata": {
    "execution": {
     "iopub.execute_input": "2021-12-28T18:24:09.621987Z",
     "iopub.status.busy": "2021-12-28T18:24:09.621309Z",
     "iopub.status.idle": "2021-12-28T18:24:10.111791Z",
     "shell.execute_reply": "2021-12-28T18:24:10.112268Z",
     "shell.execute_reply.started": "2021-12-28T18:19:03.843340Z"
    },
    "papermill": {
     "duration": 0.534732,
     "end_time": "2021-12-28T18:24:10.112440",
     "exception": false,
     "start_time": "2021-12-28T18:24:09.577708",
     "status": "completed"
    },
    "tags": []
   },
   "outputs": [
    {
     "data": {
      "text/plain": [
       "<AxesSubplot:xlabel='Start_Time'>"
      ]
     },
     "execution_count": 23,
     "metadata": {},
     "output_type": "execute_result"
    },
    {
     "data": {
      "image/png": "[encoded data removed]",
      "text/plain": [
       "<Figure size 432x288 with 1 Axes>"
      ]
     },
     "metadata": {},
     "output_type": "display_data"
    }
   ],
   "source": [
    "sns.distplot(df.Start_Time.dt.dayofweek, bins=7, kde=False, norm_hist=True)"
   ]
  },
  {
   "cell_type": "code",
   "execution_count": 24,
   "id": "987c7e4f",
   "metadata": {
    "execution": {
     "iopub.execute_input": "2021-12-28T18:24:10.196146Z",
     "iopub.status.busy": "2021-12-28T18:24:10.195484Z",
     "iopub.status.idle": "2021-12-28T18:24:10.625819Z",
     "shell.execute_reply": "2021-12-28T18:24:10.626276Z",
     "shell.execute_reply.started": "2021-12-28T18:19:13.452176Z"
    },
    "papermill": {
     "duration": 0.473488,
     "end_time": "2021-12-28T18:24:10.626443",
     "exception": false,
     "start_time": "2021-12-28T18:24:10.152955",
     "status": "completed"
    },
    "tags": []
   },
   "outputs": [
    {
     "data": {
      "text/plain": [
       "<AxesSubplot:xlabel='Start_Time'>"
      ]
     },
     "execution_count": 24,
     "metadata": {},
     "output_type": "execute_result"
    },
    {
     "data": {
      "image/png": "[encoded data removed]",
      "text/plain": [
       "<Figure size 432x288 with 1 Axes>"
      ]
     },
     "metadata": {},
     "output_type": "display_data"
    }
   ],
   "source": [
    "sundays_start_time = df.Start_Time[df.Start_Time.dt.dayofweek == 6]\n",
    "sns.distplot(sundays_start_time.dt.hour, bins=24, kde=False, norm_hist=True)"
   ]
  },
  {
   "cell_type": "code",
   "execution_count": 25,
   "id": "92d4ba80",
   "metadata": {
    "execution": {
     "iopub.execute_input": "2021-12-28T18:24:10.714089Z",
     "iopub.status.busy": "2021-12-28T18:24:10.713226Z",
     "iopub.status.idle": "2021-12-28T18:24:11.297149Z",
     "shell.execute_reply": "2021-12-28T18:24:11.297670Z",
     "shell.execute_reply.started": "2021-12-28T18:19:21.382912Z"
    },
    "papermill": {
     "duration": 0.630544,
     "end_time": "2021-12-28T18:24:11.297861",
     "exception": false,
     "start_time": "2021-12-28T18:24:10.667317",
     "status": "completed"
    },
    "tags": []
   },
   "outputs": [
    {
     "data": {
      "text/plain": [
       "<AxesSubplot:xlabel='Start_Time'>"
      ]
     },
     "execution_count": 25,
     "metadata": {},
     "output_type": "execute_result"
    },
    {
     "data": {
      "image/png": "[encoded data removed]",
      "text/plain": [
       "<Figure size 432x288 with 1 Axes>"
      ]
     },
     "metadata": {},
     "output_type": "display_data"
    }
   ],
   "source": [
    "monday_start_time = df.Start_Time[df.Start_Time.dt.dayofweek == 0]\n",
    "sns.distplot(monday_start_time.dt.hour, bins=24, kde=False, norm_hist=True)"
   ]
  },
  {
   "cell_type": "code",
   "execution_count": 26,
   "id": "164d3194",
   "metadata": {
    "execution": {
     "iopub.execute_input": "2021-12-28T18:24:11.390045Z",
     "iopub.status.busy": "2021-12-28T18:24:11.389306Z",
     "iopub.status.idle": "2021-12-28T18:24:11.392811Z",
     "shell.execute_reply": "2021-12-28T18:24:11.392282Z",
     "shell.execute_reply.started": "2021-12-28T18:20:22.764291Z"
    },
    "papermill": {
     "duration": 0.052913,
     "end_time": "2021-12-28T18:24:11.392947",
     "exception": false,
     "start_time": "2021-12-28T18:24:11.340034",
     "status": "completed"
    },
    "tags": []
   },
   "outputs": [
    {
     "data": {
      "text/plain": [
       "0          40.10891\n",
       "1          39.86542\n",
       "2          39.10266\n",
       "3          39.10148\n",
       "4          41.06213\n",
       "             ...   \n",
       "1516059    34.00248\n",
       "1516060    32.76696\n",
       "1516061    33.77545\n",
       "1516062    33.99246\n",
       "1516063    34.13393\n",
       "Name: Start_Lat, Length: 1516064, dtype: float64"
      ]
     },
     "execution_count": 26,
     "metadata": {},
     "output_type": "execute_result"
    }
   ],
   "source": [
    "df.Start_Lat"
   ]
  },
  {
   "cell_type": "code",
   "execution_count": 27,
   "id": "2bfb4027",
   "metadata": {
    "execution": {
     "iopub.execute_input": "2021-12-28T18:24:11.485440Z",
     "iopub.status.busy": "2021-12-28T18:24:11.484555Z",
     "iopub.status.idle": "2021-12-28T18:24:11.487741Z",
     "shell.execute_reply": "2021-12-28T18:24:11.488214Z",
     "shell.execute_reply.started": "2021-12-28T18:20:30.661926Z"
    },
    "papermill": {
     "duration": 0.052957,
     "end_time": "2021-12-28T18:24:11.488372",
     "exception": false,
     "start_time": "2021-12-28T18:24:11.435415",
     "status": "completed"
    },
    "tags": []
   },
   "outputs": [
    {
     "data": {
      "text/plain": [
       "0          -83.09286\n",
       "1          -84.06280\n",
       "2          -84.52468\n",
       "3          -84.52341\n",
       "4          -81.53784\n",
       "             ...    \n",
       "1516059   -117.37936\n",
       "1516060   -117.14806\n",
       "1516061   -117.84779\n",
       "1516062   -118.40302\n",
       "1516063   -117.23092\n",
       "Name: Start_Lng, Length: 1516064, dtype: float64"
      ]
     },
     "execution_count": 27,
     "metadata": {},
     "output_type": "execute_result"
    }
   ],
   "source": [
    "df.Start_Lng"
   ]
  },
  {
   "cell_type": "code",
   "execution_count": 28,
   "id": "f892815b",
   "metadata": {
    "execution": {
     "iopub.execute_input": "2021-12-28T18:24:11.576906Z",
     "iopub.status.busy": "2021-12-28T18:24:11.576224Z",
     "iopub.status.idle": "2021-12-28T18:24:12.044996Z",
     "shell.execute_reply": "2021-12-28T18:24:12.044329Z",
     "shell.execute_reply.started": "2021-12-28T18:20:37.596992Z"
    },
    "papermill": {
     "duration": 0.514233,
     "end_time": "2021-12-28T18:24:12.045146",
     "exception": false,
     "start_time": "2021-12-28T18:24:11.530913",
     "status": "completed"
    },
    "tags": []
   },
   "outputs": [],
   "source": [
    "sample_df = df.sample(int(0.1 * len(df)))"
   ]
  },
  {
   "cell_type": "code",
   "execution_count": 29,
   "id": "24ec3e13",
   "metadata": {
    "execution": {
     "iopub.execute_input": "2021-12-28T18:24:12.139298Z",
     "iopub.status.busy": "2021-12-28T18:24:12.138123Z",
     "iopub.status.idle": "2021-12-28T18:24:17.925264Z",
     "shell.execute_reply": "2021-12-28T18:24:17.925821Z",
     "shell.execute_reply.started": "2021-12-28T18:20:46.721153Z"
    },
    "papermill": {
     "duration": 5.836548,
     "end_time": "2021-12-28T18:24:17.926014",
     "exception": false,
     "start_time": "2021-12-28T18:24:12.089466",
     "status": "completed"
    },
    "tags": []
   },
   "outputs": [
    {
     "data": {
      "text/plain": [
       "<AxesSubplot:xlabel='Start_Lng', ylabel='Start_Lat'>"
      ]
     },
     "execution_count": 29,
     "metadata": {},
     "output_type": "execute_result"
    },
    {
     "data": {
      "image/png": "[encoded data removed]",
      "text/plain": [
       "<Figure size 432x288 with 1 Axes>"
      ]
     },
     "metadata": {},
     "output_type": "display_data"
    }
   ],
   "source": [
    "sns.scatterplot(x=sample_df.Start_Lng, y=sample_df.Start_Lat, size=0.001)"
   ]
  },
  {
   "cell_type": "code",
   "execution_count": 30,
   "id": "e03d0a93",
   "metadata": {
    "execution": {
     "iopub.execute_input": "2021-12-28T18:24:18.023660Z",
     "iopub.status.busy": "2021-12-28T18:24:18.023013Z",
     "iopub.status.idle": "2021-12-28T18:24:18.280406Z",
     "shell.execute_reply": "2021-12-28T18:24:18.279737Z",
     "shell.execute_reply.started": "2021-12-28T18:21:19.153978Z"
    },
    "papermill": {
     "duration": 0.3067,
     "end_time": "2021-12-28T18:24:18.280553",
     "exception": false,
     "start_time": "2021-12-28T18:24:17.973853",
     "status": "completed"
    },
    "tags": []
   },
   "outputs": [],
   "source": [
    "import folium"
   ]
  },
  {
   "cell_type": "code",
   "execution_count": 31,
   "id": "3ce824ae",
   "metadata": {
    "execution": {
     "iopub.execute_input": "2021-12-28T18:24:18.380535Z",
     "iopub.status.busy": "2021-12-28T18:24:18.379897Z",
     "iopub.status.idle": "2021-12-28T18:24:18.382306Z",
     "shell.execute_reply": "2021-12-28T18:24:18.382806Z",
     "shell.execute_reply.started": "2021-12-28T18:21:25.211873Z"
    },
    "papermill": {
     "duration": 0.054886,
     "end_time": "2021-12-28T18:24:18.382969",
     "exception": false,
     "start_time": "2021-12-28T18:24:18.328083",
     "status": "completed"
    },
    "tags": []
   },
   "outputs": [
    {
     "data": {
      "text/plain": [
       "(40.10891, -83.09286)"
      ]
     },
     "execution_count": 31,
     "metadata": {},
     "output_type": "execute_result"
    }
   ],
   "source": [
    "lat, lon = df.Start_Lat[0], df.Start_Lng[0]\n",
    "lat, lon"
   ]
  },
  {
   "cell_type": "code",
   "execution_count": 32,
   "id": "9bbb289e",
   "metadata": {
    "execution": {
     "iopub.execute_input": "2021-12-28T18:24:18.479498Z",
     "iopub.status.busy": "2021-12-28T18:24:18.478894Z",
     "iopub.status.idle": "2021-12-28T18:24:18.544833Z",
     "shell.execute_reply": "2021-12-28T18:24:18.545871Z",
     "shell.execute_reply.started": "2021-12-28T18:21:34.452765Z"
    },
    "papermill": {
     "duration": 0.116541,
     "end_time": "2021-12-28T18:24:18.546169",
     "exception": false,
     "start_time": "2021-12-28T18:24:18.429628",
     "status": "completed"
    },
    "tags": []
   },
   "outputs": [
    {
     "name": "stdout",
     "output_type": "stream",
     "text": [
      "279091     27.952573\n",
      "80020      42.396960\n",
      "923585     33.537650\n",
      "982527     47.735040\n",
      "876842     34.073950\n",
      "             ...    \n",
      "373324     36.069542\n",
      "1005044    33.687214\n",
      "128276     37.443000\n",
      "1512812    40.648450\n",
      "1304889    34.021960\n",
      "Name: Start_Lat, Length: 100, dtype: float64\n",
      "279091     -82.509716\n",
      "80020      -83.218050\n",
      "923585    -112.237700\n",
      "982527    -122.188010\n",
      "876842     -80.953450\n",
      "              ...    \n",
      "373324     -86.689735\n",
      "1005044   -117.872459\n",
      "128276    -122.116680\n",
      "1512812   -111.902220\n",
      "1304889   -118.277840\n",
      "Name: Start_Lng, Length: 100, dtype: float64\n"
     ]
    }
   ],
   "source": [
    "for x in df[['Start_Lat', 'Start_Lng']].sample(100).iteritems():\n",
    "    print(x[1])"
   ]
  },
  {
   "cell_type": "code",
   "execution_count": 33,
   "id": "8fb17996",
   "metadata": {
    "execution": {
     "iopub.execute_input": "2021-12-28T18:24:18.644652Z",
     "iopub.status.busy": "2021-12-28T18:24:18.643995Z",
     "iopub.status.idle": "2021-12-28T18:24:19.128081Z",
     "shell.execute_reply": "2021-12-28T18:24:19.127436Z",
     "shell.execute_reply.started": "2021-12-28T18:21:51.321574Z"
    },
    "papermill": {
     "duration": 0.533693,
     "end_time": "2021-12-28T18:24:19.128216",
     "exception": false,
     "start_time": "2021-12-28T18:24:18.594523",
     "status": "completed"
    },
    "tags": []
   },
   "outputs": [
    {
     "data": {
      "text/plain": [
       "<zip at 0x7fbe6f820c30>"
      ]
     },
     "execution_count": 33,
     "metadata": {},
     "output_type": "execute_result"
    }
   ],
   "source": [
    "zip(list(df.Start_Lat), list(df.Start_Lng))"
   ]
  },
  {
   "cell_type": "code",
   "execution_count": 34,
   "id": "58fc2910",
   "metadata": {
    "execution": {
     "iopub.execute_input": "2021-12-28T18:24:19.229218Z",
     "iopub.status.busy": "2021-12-28T18:24:19.228389Z",
     "iopub.status.idle": "2021-12-28T18:24:19.416843Z",
     "shell.execute_reply": "2021-12-28T18:24:19.416253Z",
     "shell.execute_reply.started": "2021-12-28T18:21:58.909292Z"
    },
    "papermill": {
     "duration": 0.241226,
     "end_time": "2021-12-28T18:24:19.416985",
     "exception": false,
     "start_time": "2021-12-28T18:24:19.175759",
     "status": "completed"
    },
    "tags": []
   },
   "outputs": [],
   "source": [
    "from folium.plugins import HeatMap"
   ]
  },
  {
   "cell_type": "code",
   "execution_count": 35,
   "id": "660be23a",
   "metadata": {
    "execution": {
     "iopub.execute_input": "2021-12-28T18:24:19.517761Z",
     "iopub.status.busy": "2021-12-28T18:24:19.516929Z",
     "iopub.status.idle": "2021-12-28T18:24:19.602916Z",
     "shell.execute_reply": "2021-12-28T18:24:19.602336Z",
     "shell.execute_reply.started": "2021-12-28T18:22:05.558430Z"
    },
    "papermill": {
     "duration": 0.138748,
     "end_time": "2021-12-28T18:24:19.603075",
     "exception": false,
     "start_time": "2021-12-28T18:24:19.464327",
     "status": "completed"
    },
    "tags": []
   },
   "outputs": [],
   "source": [
    "sample_df = df.sample(int(0.001 * len(df)))\n",
    "lat_lon_pairs = list(zip(list(sample_df.Start_Lat), list(sample_df.Start_Lng)))"
   ]
  },
  {
   "cell_type": "code",
   "execution_count": 36,
   "id": "ea77bc97",
   "metadata": {
    "execution": {
     "iopub.execute_input": "2021-12-28T18:24:19.701821Z",
     "iopub.status.busy": "2021-12-28T18:24:19.701149Z",
     "iopub.status.idle": "2021-12-28T18:24:19.747733Z",
     "shell.execute_reply": "2021-12-28T18:24:19.748238Z",
     "shell.execute_reply.started": "2021-12-28T18:22:14.846577Z"
    },
    "papermill": {
     "duration": 0.097666,
     "end_time": "2021-12-28T18:24:19.748401",
     "exception": false,
     "start_time": "2021-12-28T18:24:19.650735",
     "status": "completed"
    },
    "tags": []
   },
   "outputs": [
    {
     "data": {
      "text/html": [
       "<div style=\"width:100%;\"><div style=\"position:relative;width:100%;height:0;padding-bottom:60%;\"><span style=\"color:#565656\">Make this Notebook Trusted to load map: File -> Trust Notebook</span><iframe src=\"about:blank\" style=\"position:absolute;width:100%;height:100%;left:0;top:0;border:none !important;\" data-html=%3C%21DOCTYPE%20html%3E%0A%3Chead%3E%20%20%20%20%0A%20%20%20%20%3Cmeta%20http-equiv%3D%22content-type%22%20content%3D%22text/html%3B%20charset%3DUTF-8%22%20/%3E%0A%20%20%20%20%0A%20%20%20%20%20%20%20%20%3Cscript%3E%0A%20%20%20%20%20%20%20%20%20%20%20%20L_NO_TOUCH%20%3D%20false%3B%0A%20%20%20%20%20%20%20%20%20%20%20%20L_DISABLE_3D%20%3D%20false%3B%0A%20%20%20%20%20%20%20%20%3C/script%3E%0A%20%20%20%20%0A%20%20%20%20%3Cstyle%3Ehtml%2C%20body%20%7Bwidth%3A%20100%25%3Bheight%3A%20100%25%3Bmargin%3A%200%3Bpadding%3A%200%3B%7D%3C/style%3E%0A%20%20%20%20%3Cstyle%3E%23map%20%7Bposition%3Aabsolute%3Btop%3A0%3Bbottom%3A0%3Bright%3A0%3Bleft%3A0%3B%7D%3C/style%3E%0A%20%20%20%20%3Cscript%20src%3D%22https%3A//cdn.jsdelivr.net/npm/leaflet%401.6.0/dist/leaflet.js%22%3E%3C/script%3E%0A%20%20%20%20%3Cscript%20src%3D%22https%3A//code.jquery.com/jquery-1.12.4.min.js%22%3E%3C/script%3E%0A%20%20%20%20%3Cscript%20src%3D%22https%3A//maxcdn.bootstrapcdn.com/bootstrap/3.2.0/js/bootstrap.min.js%22%3E%3C/script%3E%0A%20%20%20%20%3Cscript%20src%3D%22https%3A//cdnjs.cloudflare.com/ajax/libs/Leaflet.awesome-markers/2.0.2/leaflet.awesome-markers.js%22%3E%3C/script%3E%0A%20%20%20%20%3Clink%20rel%3D%22stylesheet%22%20href%3D%22https%3A//cdn.jsdelivr.net/npm/leaflet%401.6.0/dist/leaflet.css%22/%3E%0A%20%20%20%20%3Clink%20rel%3D%22stylesheet%22%20href%3D%22https%3A//maxcdn.bootstrapcdn.com/bootstrap/3.2.0/css/bootstrap.min.css%22/%3E%0A%20%20%20%20%3Clink%20rel%3D%22stylesheet%22%20href%3D%22https%3A//maxcdn.bootstrapcdn.com/bootstrap/3.2.0/css/bootstrap-theme.min.css%22/%3E%0A%20%20%20%20%3Clink%20rel%3D%22stylesheet%22%20href%3D%22https%3A//maxcdn.bootstrapcdn.com/font-awesome/4.6.3/css/font-awesome.min.css%22/%3E%0A%20%20%20%20%3Clink%20rel%3D%22stylesheet%22%20href%3D%22https%3A//cdnjs.cloudflare.com/ajax/libs/Leaflet.awesome-markers/2.0.2/leaflet.awesome-markers.css%22/%3E%0A%20%20%20%20%3Clink%20rel%3D%22stylesheet%22%20href%3D%22https%3A//cdn.jsdelivr.net/gh/python-visualization/folium/folium/templates/leaflet.awesome.rotate.min.css%22/%3E%0A%20%20%20%20%0A%20%20%20%20%20%20%20%20%20%20%20%20%3Cmeta%20name%3D%22viewport%22%20content%3D%22width%3Ddevice-width%2C%0A%20%20%20%20%20%20%20%20%20%20%20%20%20%20%20%20initial-scale%3D1.0%2C%20maximum-scale%3D1.0%2C%20user-scalable%3Dno%22%20/%3E%0A%20%20%20%20%20%20%20%20%20%20%20%20%3Cstyle%3E%0A%20%20%20%20%20%20%20%20%20%20%20%20%20%20%20%20%23map_96fa7baa921849f8b7e7a7270dec262e%20%7B%0A%20%20%20%20%20%20%20%20%20%20%20%20%20%20%20%20%20%20%20%20position%3A%20relative%3B%0A%20%20%20%20%20%20%20%20%20%20%20%20%20%20%20%20%20%20%20%20width%3A%20100.0%25%3B%0A%20%20%20%20%20%20%20%20%20%20%20%20%20%20%20%20%20%20%20%20height%3A%20100.0%25%3B%0A%20%20%20%20%20%20%20%20%20%20%20%20%20%20%20%20%20%20%20%20left%3A%200.0%25%3B%0A%20%20%20%20%20%20%20%20%20%20%20%20%20%20%20%20%20%20%20%20top%3A%200.0%25%3B%0A%20%20%20%20%20%20%20%20%20%20%20%20%20%20%20%20%7D%0A%20%20%20%20%20%20%20%20%20%20%20%20%3C/style%3E%0A%20%20%20%20%20%20%20%20%0A%20%20%20%20%3Cscript%20src%3D%22https%3A//cdn.jsdelivr.net/gh/python-visualization/folium%40master/folium/templates/leaflet_heat.min.js%22%3E%3C/script%3E%0A%3C/head%3E%0A%3Cbody%3E%20%20%20%20%0A%20%20%20%20%0A%20%20%20%20%20%20%20%20%20%20%20%20%3Cdiv%20class%3D%22folium-map%22%20id%3D%22map_96fa7baa921849f8b7e7a7270dec262e%22%20%3E%3C/div%3E%0A%20%20%20%20%20%20%20%20%0A%3C/body%3E%0A%3Cscript%3E%20%20%20%20%0A%20%20%20%20%0A%20%20%20%20%20%20%20%20%20%20%20%20var%20map_96fa7baa921849f8b7e7a7270dec262e%20%3D%20L.map%28%0A%20%20%20%20%20%20%20%20%20%20%20%20%20%20%20%20%22map_96fa7baa921849f8b7e7a7270dec262e%22%2C%0A%20%20%20%20%20%20%20%20%20%20%20%20%20%20%20%20%7B%0A%20%20%20%20%20%20%20%20%20%20%20%20%20%20%20%20%20%20%20%20center%3A%20%5B0%2C%200%5D%2C%0A%20%20%20%20%20%20%20%20%20%20%20%20%20%20%20%20%20%20%20%20crs%3A%20L.CRS.EPSG3857%2C%0A%20%20%20%20%20%20%20%20%20%20%20%20%20%20%20%20%20%20%20%20zoom%3A%201%2C%0A%20%20%20%20%20%20%20%20%20%20%20%20%20%20%20%20%20%20%20%20zoomControl%3A%20true%2C%0A%20%20%20%20%20%20%20%20%20%20%20%20%20%20%20%20%20%20%20%20preferCanvas%3A%20false%2C%0A%20%20%20%20%20%20%20%20%20%20%20%20%20%20%20%20%7D%0A%20%20%20%20%20%20%20%20%20%20%20%20%29%3B%0A%0A%20%20%20%20%20%20%20%20%20%20%20%20%0A%0A%20%20%20%20%20%20%20%20%0A%20%20%20%20%0A%20%20%20%20%20%20%20%20%20%20%20%20var%20tile_layer_15396c7fa9a14c8b888ceb173d904cef%20%3D%20L.tileLayer%28%0A%20%20%20%20%20%20%20%20%20%20%20%20%20%20%20%20%22https%3A//%7Bs%7D.tile.openstreetmap.org/%7Bz%7D/%7Bx%7D/%7By%7D.png%22%2C%0A%20%20%20%20%20%20%20%20%20%20%20%20%20%20%20%20%7B%22attribution%22%3A%20%22Data%20by%20%5Cu0026copy%3B%20%5Cu003ca%20href%3D%5C%22http%3A//openstreetmap.org%5C%22%5Cu003eOpenStreetMap%5Cu003c/a%5Cu003e%2C%20under%20%5Cu003ca%20href%3D%5C%22http%3A//www.openstreetmap.org/copyright%5C%22%5Cu003eODbL%5Cu003c/a%5Cu003e.%22%2C%20%22detectRetina%22%3A%20false%2C%20%22maxNativeZoom%22%3A%2018%2C%20%22maxZoom%22%3A%2018%2C%20%22minZoom%22%3A%200%2C%20%22noWrap%22%3A%20false%2C%20%22opacity%22%3A%201%2C%20%22subdomains%22%3A%20%22abc%22%2C%20%22tms%22%3A%20false%7D%0A%20%20%20%20%20%20%20%20%20%20%20%20%29.addTo%28map_96fa7baa921849f8b7e7a7270dec262e%29%3B%0A%20%20%20%20%20%20%20%20%0A%20%20%20%20%0A%20%20%20%20%20%20%20%20%20%20%20%20var%20heat_map_92a4456e079943b798b64cb815285c0b%20%3D%20L.heatLayer%28%0A%20%20%20%20%20%20%20%20%20%20%20%20%20%20%20%20%5B%5B35.13256%2C%20-80.95886%5D%2C%20%5B38.51469%2C%20-121.46238%5D%2C%20%5B45.46377%2C%20-122.63846%5D%2C%20%5B38.49218%2C%20-90.30346%5D%2C%20%5B40.821067%2C%20-97.600734%5D%2C%20%5B37.581296%2C%20-77.406839%5D%2C%20%5B42.2073%2C%20-124.37318%5D%2C%20%5B33.866246%2C%20-117.716757%5D%2C%20%5B27.960387%2C%20-82.454227%5D%2C%20%5B33.777047%2C%20-84.611195%5D%2C%20%5B45.137661%2C%20-93.478084%5D%2C%20%5B34.113327%2C%20-117.823948%5D%2C%20%5B32.898463%2C%20-117.225075%5D%2C%20%5B38.636516%2C%20-121.495518%5D%2C%20%5B38.935557%2C%20-94.612119%5D%2C%20%5B39.98685%2C%20-78.26081%5D%2C%20%5B39.93162%2C%20-76.68832%5D%2C%20%5B41.834204%2C%20-87.918719%5D%2C%20%5B34.589344%2C%20-118.287824%5D%2C%20%5B37.34859%2C%20-121.84005%5D%2C%20%5B44.86242%2C%20-93.44303%5D%2C%20%5B38.167016%2C%20-121.596234%5D%2C%20%5B40.97503%2C%20-73.70294%5D%2C%20%5B42.79866%2C%20-71.09663%5D%2C%20%5B33.91099%2C%20-84.21488%5D%2C%20%5B33.814408%2C%20-118.176318%5D%2C%20%5B37.35492%2C%20-122.06203%5D%2C%20%5B39.62667%2C%20-104.90339%5D%2C%20%5B38.469208%2C%20-77.405523%5D%2C%20%5B33.92826%2C%20-118.254122%5D%2C%20%5B40.88681%2C%20-73.81482%5D%2C%20%5B39.90523%2C%20-86.04245%5D%2C%20%5B34.88895%2C%20-82.39893%5D%2C%20%5B27.79072%2C%20-82.3572%5D%2C%20%5B40.377432%2C%20-80.051056%5D%2C%20%5B39.553721%2C%20-76.142805%5D%2C%20%5B34.14324%2C%20-117.25646%5D%2C%20%5B25.808817%2C%20-80.33119%5D%2C%20%5B27.965001%2C%20-82.442464%5D%2C%20%5B41.810013%2C%20-85.66255%5D%2C%20%5B41.917389%2C%20-87.708948%5D%2C%20%5B37.317021%2C%20-121.931206%5D%2C%20%5B36.731482%2C%20-119.783435%5D%2C%20%5B44.4096%2C%20-123.06118%5D%2C%20%5B39.42321%2C%20-77.49399%5D%2C%20%5B34.514658%2C%20-117.320872%5D%2C%20%5B39.95454%2C%20-82.981691%5D%2C%20%5B38.6345%2C%20-90.45002%5D%2C%20%5B44.556862%2C%20-120.049928%5D%2C%20%5B40.29549%2C%20-74.35835%5D%2C%20%5B32.23594%2C%20-110.95676%5D%2C%20%5B38.834304%2C%20-77.217409%5D%2C%20%5B33.774551%2C%20-118.047926%5D%2C%20%5B40.168406%2C%20-75.288761%5D%2C%20%5B44.88592%2C%20-93.295952%5D%2C%20%5B45.30148%2C%20-122.96249%5D%2C%20%5B40.641927%2C%20-124.209214%5D%2C%20%5B34.74935%2C%20-80.44465%5D%2C%20%5B25.858411%2C%20-80.207993%5D%2C%20%5B33.75165%2C%20-84.37988%5D%2C%20%5B41.941297%2C%20-87.712194%5D%2C%20%5B41.368323%2C%20-112.035112%5D%2C%20%5B36.89041%2C%20-76.42788%5D%2C%20%5B38.926436%2C%20-76.966473%5D%2C%20%5B28.53559%2C%20-81.37936%5D%2C%20%5B44.232913%2C%20-122.055808%5D%2C%20%5B33.890264%2C%20-117.814958%5D%2C%20%5B41.100238%2C%20-73.797107%5D%2C%20%5B38.037961%2C%20-122.118016%5D%2C%20%5B34.025557%2C%20-117.724245%5D%2C%20%5B41.76849%2C%20-87.90497%5D%2C%20%5B38.660672%2C%20-121.535571%5D%2C%20%5B33.844712%2C%20-117.828327%5D%2C%20%5B35.25271%2C%20-81.04287%5D%2C%20%5B39.450586%2C%20-77.563242%5D%2C%20%5B41.87558%2C%20-87.63718%5D%2C%20%5B40.481818%2C%20-80.00758%5D%2C%20%5B37.14006%2C%20-109.55805%5D%2C%20%5B34.10423%2C%20-117.30228%5D%2C%20%5B38.56957%2C%20-121.51292%5D%2C%20%5B26.07641%2C%20-80.16853%5D%2C%20%5B34.069633%2C%20-118.261298%5D%2C%20%5B25.699728%2C%20-80.366142%5D%2C%20%5B30.30906%2C%20-81.84854%5D%2C%20%5B39.129108%2C%20-94.900991%5D%2C%20%5B41.18467%2C%20-80.29152%5D%2C%20%5B37.715206%2C%20-122.172632%5D%2C%20%5B44.0698%2C%20-121.30651%5D%2C%20%5B44.16056%2C%20-121.25876%5D%2C%20%5B39.9152%2C%20-82.9913%5D%2C%20%5B33.55508%2C%20-117.67305%5D%2C%20%5B40.69975%2C%20-111.905506%5D%2C%20%5B42.32644%2C%20-83.05369%5D%2C%20%5B37.251489%2C%20-121.838082%5D%2C%20%5B30.065096%2C%20-95.24276%5D%2C%20%5B36.90036%2C%20-121.59084%5D%2C%20%5B25.95802%2C%20-80.17108%5D%2C%20%5B26.05567%2C%20-80.35282%5D%2C%20%5B30.652058%2C%20-87.767673%5D%2C%20%5B38.524461%2C%20-122.71943%5D%2C%20%5B36.126832%2C%20-94.180593%5D%2C%20%5B32.74477%2C%20-96.61219%5D%2C%20%5B32.182256%2C%20-110.953091%5D%2C%20%5B37.263936%2C%20-80.159377%5D%2C%20%5B34.30577%2C%20-118.48217%5D%2C%20%5B41.24988%2C%20-73.00385%5D%2C%20%5B40.20183%2C%20-76.20835%5D%2C%20%5B35.044206%2C%20-85.295545%5D%2C%20%5B42.24016%2C%20-87.90572%5D%2C%20%5B35.79846%2C%20-78.56295%5D%2C%20%5B36.50762%2C%20-87.36727%5D%2C%20%5B32.2503%2C%20-110.98225%5D%2C%20%5B44.99977%2C%20-123.99027%5D%2C%20%5B32.78539%2C%20-96.788136%5D%2C%20%5B29.595523%2C%20-95.196973%5D%2C%20%5B34.834738%2C%20-82.302092%5D%2C%20%5B37.57938%2C%20-122.32339%5D%2C%20%5B34.19492%2C%20-118.33168%5D%2C%20%5B33.68038%2C%20-117.17082%5D%2C%20%5B33.915554%2C%20-118.078338%5D%2C%20%5B39.096749%2C%20-94.569958%5D%2C%20%5B28.5132%2C%20-81.35982%5D%2C%20%5B33.596954%2C%20-117.677119%5D%2C%20%5B33.82195%2C%20-118.20705%5D%2C%20%5B42.127623%2C%20-122.250023%5D%2C%20%5B39.390481%2C%20-123.406752%5D%2C%20%5B40.6643%2C%20-73.99104%5D%2C%20%5B37.578263%2C%20-77.466545%5D%2C%20%5B39.85283%2C%20-85.116695%5D%2C%20%5B35.70236%2C%20-78.60253%5D%2C%20%5B44.960485%2C%20-93.201237%5D%2C%20%5B45.339556%2C%20-93.004471%5D%2C%20%5B29.415691%2C%20-98.429016%5D%2C%20%5B45.6408%2C%20-118.68814%5D%2C%20%5B31.812473%2C%20-106.441659%5D%2C%20%5B38.946189%2C%20-76.848007%5D%2C%20%5B40.29353%2C%20-75.40423%5D%2C%20%5B44.62936%2C%20-123.048914%5D%2C%20%5B34.119658%2C%20-117.807205%5D%2C%20%5B26.27656%2C%20-80.169%5D%2C%20%5B44.9649%2C%20-93.24474%5D%2C%20%5B37.36425%2C%20-121.90148%5D%2C%20%5B38.31122%2C%20-85.57568%5D%2C%20%5B28.048913%2C%20-82.738686%5D%2C%20%5B45.00225%2C%20-93.23516%5D%2C%20%5B36.148857%2C%20-86.864618%5D%2C%20%5B34.06101%2C%20-118.24726%5D%2C%20%5B33.94118%2C%20-118.09653%5D%2C%20%5B33.785051%2C%20-84.246007%5D%2C%20%5B45.53196%2C%20-122.63329%5D%2C%20%5B33.984548%2C%20-78.033159%5D%2C%20%5B28.697863%2C%20-81.566954%5D%2C%20%5B33.93224%2C%20-118.28082%5D%2C%20%5B35.71102%2C%20-81.23676%5D%2C%20%5B40.844065%2C%20-73.925967%5D%2C%20%5B38.818742%2C%20-77.222288%5D%2C%20%5B45.13799%2C%20-93.49455%5D%2C%20%5B34.549467%2C%20-82.674276%5D%2C%20%5B26.017377%2C%20-80.212905%5D%2C%20%5B26.166293%2C%20-80.154026%5D%2C%20%5B39.08578%2C%20-94.59224%5D%2C%20%5B34.043301%2C%20-118.169188%5D%2C%20%5B41.50924%2C%20-74.21137%5D%2C%20%5B45.50792%2C%20-122.72209%5D%2C%20%5B32.2395%2C%20-110.97184%5D%2C%20%5B28.24045%2C%20-82.35193%5D%2C%20%5B34.02354%2C%20-118.1728%5D%2C%20%5B41.68556%2C%20-87.66197%5D%2C%20%5B38.99562%2C%20-94.69579%5D%2C%20%5B38.02921%2C%20-84.34153%5D%2C%20%5B43.234463%2C%20-124.232509%5D%2C%20%5B38.376238%2C%20-122.741413%5D%2C%20%5B39.95579%2C%20-105.16096%5D%2C%20%5B34.02167%2C%20-118.03716%5D%2C%20%5B33.915792%2C%20-118.189276%5D%2C%20%5B32.67099%2C%20-96.97586%5D%2C%20%5B34.277976%2C%20-118.470178%5D%2C%20%5B46.152471%2C%20-123.413207%5D%2C%20%5B25.96891%2C%20-80.16532%5D%2C%20%5B44.938188%2C%20-123.036127%5D%2C%20%5B45.55465%2C%20-122.67874%5D%2C%20%5B35.13036%2C%20-81.54607%5D%2C%20%5B38.767929%2C%20-121.040623%5D%2C%20%5B39.7802%2C%20-104.93225%5D%2C%20%5B45.506529%2C%20-122.715388%5D%2C%20%5B45.50442%2C%20-122.56546%5D%2C%20%5B40.968957%2C%20-73.775909%5D%2C%20%5B32.837107%2C%20-97.028222%5D%2C%20%5B45.027173%2C%20-92.971924%5D%2C%20%5B34.218667%2C%20-80.985192%5D%2C%20%5B33.13908%2C%20-117.10472%5D%2C%20%5B29.99976%2C%20-90.05914%5D%2C%20%5B32.834027%2C%20-117.11932%5D%2C%20%5B35.57979%2C%20-80.85614%5D%2C%20%5B36.988343%2C%20-122.007848%5D%2C%20%5B30.40414%2C%20-97.67519%5D%2C%20%5B34.148651%2C%20-118.052548%5D%2C%20%5B39.018031%2C%20-95.501077%5D%2C%20%5B35.309849%2C%20-79.79955%5D%2C%20%5B38.67434%2C%20-77.23883%5D%2C%20%5B42.34495%2C%20-88.0676%5D%2C%20%5B45.350779%2C%20-122.659318%5D%2C%20%5B45.60282%2C%20-121.13871%5D%2C%20%5B41.341487%2C%20-81.345173%5D%2C%20%5B40.45026%2C%20-109.5505%5D%2C%20%5B40.76469%2C%20-73.95254%5D%2C%20%5B26.08719%2C%20-80.16903%5D%2C%20%5B32.676175%2C%20-97.03243%5D%2C%20%5B28.543853%2C%20-81.394312%5D%2C%20%5B25.521658%2C%20-80.424656%5D%2C%20%5B41.86603%2C%20-71.40269%5D%2C%20%5B37.66896%2C%20-122.1094%5D%2C%20%5B34.49926%2C%20-82.682%5D%2C%20%5B33.825541%2C%20-118.22702%5D%2C%20%5B42.18205%2C%20-120.44747%5D%2C%20%5B47.617002%2C%20-122.350684%5D%2C%20%5B41.340276%2C%20-84.554235%5D%2C%20%5B35.683859%2C%20-78.652148%5D%2C%20%5B42.64896%2C%20-114.4445%5D%2C%20%5B42.072597%2C%20-84.066763%5D%2C%20%5B33.887472%2C%20-118.099808%5D%2C%20%5B33.82575%2C%20-118.24584%5D%2C%20%5B32.79408%2C%20-96.70467%5D%2C%20%5B34.095536%2C%20-118.244025%5D%2C%20%5B33.90473%2C%20-84.47538%5D%2C%20%5B34.019539%2C%20-117.988035%5D%2C%20%5B32.346407%2C%20-95.289901%5D%2C%20%5B43.13123%2C%20-77.46397%5D%2C%20%5B33.970495%2C%20-117.330268%5D%2C%20%5B38.786956%2C%20-121.224335%5D%2C%20%5B42.19715%2C%20-88.0183%5D%2C%20%5B29.732618%2C%20-95.605695%5D%2C%20%5B41.08046%2C%20-81.5038%5D%2C%20%5B34.100294%2C%20-117.539292%5D%2C%20%5B39.15194%2C%20-76.68027%5D%2C%20%5B25.988148%2C%20-80.165745%5D%2C%20%5B37.165115%2C%20-121.665901%5D%2C%20%5B28.527933%2C%20-81.467554%5D%2C%20%5B41.15498%2C%20-95.93864%5D%2C%20%5B30.316869%2C%20-81.730631%5D%2C%20%5B40.71954%2C%20-111.86471%5D%2C%20%5B47.61953%2C%20-122.32821%5D%2C%20%5B37.31536%2C%20-121.94029%5D%2C%20%5B26.190581%2C%20-80.096581%5D%2C%20%5B27.337761%2C%20-82.463929%5D%2C%20%5B39.005852%2C%20-77.074016%5D%2C%20%5B45.54226%2C%20-122.48384%5D%2C%20%5B38.88988%2C%20-76.968458%5D%2C%20%5B37.56492%2C%20-122.27208%5D%2C%20%5B42.00451%2C%20-83.35604%5D%2C%20%5B29.367098%2C%20-81.139126%5D%2C%20%5B42.178841%2C%20-86.247857%5D%2C%20%5B34.06567%2C%20-118.2427%5D%2C%20%5B33.590441%2C%20-92.088681%5D%2C%20%5B28.567829%2C%20-81.286009%5D%2C%20%5B45.104981%2C%20-93.458923%5D%2C%20%5B38.330046%2C%20-120.906954%5D%2C%20%5B34.38372%2C%20-118.56814%5D%2C%20%5B25.770822%2C%20-80.336531%5D%2C%20%5B42.132989%2C%20-122.633829%5D%2C%20%5B33.53125%2C%20-112.112438%5D%2C%20%5B33.602907%2C%20-117.171899%5D%2C%20%5B33.85544%2C%20-117.87581%5D%2C%20%5B42.800041%2C%20-84.349046%5D%2C%20%5B25.865059%2C%20-80.210799%5D%2C%20%5B45.16872%2C%20-93.03061%5D%2C%20%5B33.656777%2C%20-84.434534%5D%2C%20%5B29.67669%2C%20-95.38158%5D%2C%20%5B32.394007%2C%20-87.087923%5D%2C%20%5B34.316692%2C%20-117.479754%5D%2C%20%5B25.78784%2C%20-80.209907%5D%2C%20%5B37.72297%2C%20-122.4477%5D%2C%20%5B30.33261%2C%20-97.6857%5D%2C%20%5B37.51028%2C%20-121.97122%5D%2C%20%5B38.506897%2C%20-122.769931%5D%2C%20%5B34.03553%2C%20-118.1699%5D%2C%20%5B38.8289%2C%20-76.8762%5D%2C%20%5B34.02391%2C%20-117.76547%5D%2C%20%5B34.116014%2C%20-117.823938%5D%2C%20%5B40.74328%2C%20-73.77562%5D%2C%20%5B37.770914%2C%20-122.405721%5D%2C%20%5B34.150866%2C%20-118.089947%5D%2C%20%5B33.072601%2C%20-117.070011%5D%2C%20%5B33.261097%2C%20-111.952303%5D%2C%20%5B47.60582%2C%20-122.32647%5D%2C%20%5B36.578503%2C%20-121.727095%5D%2C%20%5B42.633551%2C%20-78.991409%5D%2C%20%5B41.71448%2C%20-87.6468%5D%2C%20%5B40.79019%2C%20-73.36849%5D%2C%20%5B33.19735%2C%20-87.527839%5D%2C%20%5B35.28186%2C%20-80.84787%5D%2C%20%5B34.48748%2C%20-118.15974%5D%2C%20%5B25.900112%2C%20-80.18693%5D%2C%20%5B33.614553%2C%20-117.707229%5D%2C%20%5B35.81653%2C%20-78.60067%5D%2C%20%5B25.6374%2C%20-80.38518%5D%2C%20%5B35.26905%2C%20-80.84546%5D%2C%20%5B44.305065%2C%20-120.749596%5D%2C%20%5B45.20342%2C%20-92.97968%5D%2C%20%5B44.38055%2C%20-93.75691%5D%2C%20%5B37.533749%2C%20-77.507933%5D%2C%20%5B37.16462%2C%20-78.114%5D%2C%20%5B28.61199%2C%20-81.206921%5D%2C%20%5B39.76051%2C%20-105.00504%5D%2C%20%5B39.39679%2C%20-77.36066%5D%2C%20%5B27.753879%2C%20-82.757827%5D%2C%20%5B34.14632%2C%20-118.02777%5D%2C%20%5B45.568489%2C%20-122.608852%5D%2C%20%5B40.34914%2C%20-106.74924%5D%2C%20%5B33.97563%2C%20-117.33515%5D%2C%20%5B36.15077%2C%20-86.77053%5D%2C%20%5B45.61769%2C%20-121.21041%5D%2C%20%5B26.097432%2C%20-80.362061%5D%2C%20%5B33.53728%2C%20-112.26369%5D%2C%20%5B34.030444%2C%20-117.601691%5D%2C%20%5B33.787833%2C%20-117.831133%5D%2C%20%5B35.08398%2C%20-85.062265%5D%2C%20%5B33.95426%2C%20-81.230508%5D%2C%20%5B38.879488%2C%20-77.032495%5D%2C%20%5B36.051136%2C%20-86.61543%5D%2C%20%5B34.029753%2C%20-117.712611%5D%2C%20%5B34.055374%2C%20-118.187881%5D%2C%20%5B38.70162%2C%20-90.26649%5D%2C%20%5B34.991315%2C%20-118.94671%5D%2C%20%5B38.55417%2C%20-121.689551%5D%2C%20%5B35.891313%2C%20-78.56076%5D%2C%20%5B34.04965%2C%20-118.44876%5D%2C%20%5B38.6279%2C%20-121.26589%5D%2C%20%5B43.122571%2C%20-77.648438%5D%2C%20%5B38.370657%2C%20-121.475667%5D%2C%20%5B38.481607%2C%20-121.408674%5D%2C%20%5B33.783578%2C%20-78.990709%5D%2C%20%5B29.732628%2C%20-95.256894%5D%2C%20%5B32.812697%2C%20-96.757578%5D%2C%20%5B42.804989%2C%20-117.726269%5D%2C%20%5B40.71643%2C%20-73.97559%5D%2C%20%5B33.896214%2C%20-118.187654%5D%2C%20%5B37.77304%2C%20-122.40657%5D%2C%20%5B33.81188%2C%20-118.16213%5D%2C%20%5B38.18692%2C%20-78.998447%5D%2C%20%5B45.60715%2C%20-122.5668%5D%2C%20%5B39.01974%2C%20-77.01318%5D%2C%20%5B34.851258%2C%20-82.230392%5D%2C%20%5B41.74633%2C%20-72.73566%5D%2C%20%5B40.757866%2C%20-74.20951%5D%2C%20%5B27.87256%2C%20-82.50645%5D%2C%20%5B40.751965%2C%20-111.88823%5D%2C%20%5B44.25247%2C%20-72.59736%5D%2C%20%5B44.05955%2C%20-93.16199%5D%2C%20%5B25.92602%2C%20-80.21037%5D%2C%20%5B38.115356%2C%20-121.485079%5D%2C%20%5B29.790329%2C%20-95.089753%5D%2C%20%5B37.542197%2C%20-121.270688%5D%2C%20%5B26.011003%2C%20-80.166613%5D%2C%20%5B38.90194%2C%20-76.9883%5D%2C%20%5B44.037675%2C%20-116.996353%5D%2C%20%5B37.824861%2C%20-122.313611%5D%2C%20%5B37.692384%2C%20-122.140253%5D%2C%20%5B29.659921%2C%20-82.419296%5D%2C%20%5B39.28764%2C%20-84.40123%5D%2C%20%5B44.75981%2C%20-93.21761%5D%2C%20%5B31.45918%2C%20-83.530081%5D%2C%20%5B36.044565%2C%20-78.817645%5D%2C%20%5B38.6704%2C%20-77.23754%5D%2C%20%5B33.938658%2C%20-117.877189%5D%2C%20%5B44.078609%2C%20-123.04755%5D%2C%20%5B39.6298%2C%20-104.90516%5D%2C%20%5B33.83855%2C%20-118.29017%5D%2C%20%5B34.008668%2C%20-117.969834%5D%2C%20%5B37.72316%2C%20-121.10076%5D%2C%20%5B35.36661%2C%20-80.815461%5D%2C%20%5B44.943083%2C%20-93.077062%5D%2C%20%5B33.903574%2C%20-118.194981%5D%2C%20%5B33.242831%2C%20-117.41583%5D%2C%20%5B34.167288%2C%20-118.613894%5D%2C%20%5B42.38821%2C%20-122.917423%5D%2C%20%5B38.697897%2C%20-77.401163%5D%2C%20%5B26.125793%2C%20-80.21741%5D%2C%20%5B37.06209%2C%20-76.42206%5D%2C%20%5B29.774583%2C%20-95.257029%5D%2C%20%5B41.83463%2C%20-88.0172%5D%2C%20%5B25.78345%2C%20-80.27315%5D%2C%20%5B40.796049%2C%20-73.929566%5D%2C%20%5B33.7428%2C%20-118.00271%5D%2C%20%5B33.931%2C%20-118.2801%5D%2C%20%5B29.59798%2C%20-95.36418%5D%2C%20%5B44.96693%2C%20-93.2243%5D%2C%20%5B37.69751%2C%20-121.97387%5D%2C%20%5B33.96721%2C%20-118.08344%5D%2C%20%5B41.35129%2C%20-82.02874%5D%2C%20%5B35.788624%2C%20-78.672047%5D%2C%20%5B35.29356%2C%20-80.74017%5D%2C%20%5B32.734513%2C%20-96.82413%5D%2C%20%5B33.92038%2C%20-84.32015%5D%2C%20%5B28.30987%2C%20-82.69987%5D%2C%20%5B34.0538%2C%20-118.23385%5D%2C%20%5B33.858343%2C%20-118.309279%5D%2C%20%5B37.775564%2C%20-122.405811%5D%2C%20%5B37.70171%2C%20-121.76941%5D%2C%20%5B39.16086%2C%20-78.15511%5D%2C%20%5B38.792404%2C%20-77.038643%5D%2C%20%5B45.839459%2C%20-122.837225%5D%2C%20%5B38.01663%2C%20-121.99106%5D%2C%20%5B40.76063%2C%20-111.88822%5D%2C%20%5B33.840111%2C%20-117.249923%5D%2C%20%5B25.887555%2C%20-80.186348%5D%2C%20%5B39.14029%2C%20-84.5996%5D%2C%20%5B33.943873%2C%20-118.028896%5D%2C%20%5B35.870784%2C%20-78.663577%5D%2C%20%5B41.037186%2C%20-73.675335%5D%2C%20%5B38.72212%2C%20-121.22572%5D%2C%20%5B33.89591%2C%20-117.49734%5D%2C%20%5B34.2382%2C%20-118.84096%5D%2C%20%5B37.42019%2C%20-121.8822%5D%2C%20%5B44.946472%2C%20-93.274599%5D%2C%20%5B30.258019%2C%20-97.812121%5D%2C%20%5B33.43747%2C%20-112.27238%5D%2C%20%5B47.529697%2C%20-114.151774%5D%2C%20%5B37.560548%2C%20-122.041031%5D%2C%20%5B27.446268%2C%20-82.505514%5D%2C%20%5B37.330158%2C%20-79.991873%5D%2C%20%5B41.035462%2C%20-81.561204%5D%2C%20%5B38.555217%2C%20-121.403277%5D%2C%20%5B34.017867%2C%20-118.052654%5D%2C%20%5B26.22152%2C%20-80.13624%5D%2C%20%5B37.85272%2C%20-122.29991%5D%2C%20%5B45.255421%2C%20-119.759827%5D%2C%20%5B41.76093%2C%20-87.87301%5D%2C%20%5B33.47575%2C%20-111.88914%5D%2C%20%5B38.24771%2C%20-122.270054%5D%2C%20%5B34.02871%2C%20-84.57507%5D%2C%20%5B42.00366%2C%20-87.88972%5D%2C%20%5B34.03072%2C%20-118.19417%5D%2C%20%5B39.236265%2C%20-76.667865%5D%2C%20%5B37.399923%2C%20-122.032679%5D%2C%20%5B34.015034%2C%20-117.086778%5D%2C%20%5B32.78758%2C%20-96.79058%5D%2C%20%5B32.774373%2C%20-96.791363%5D%2C%20%5B37.834718%2C%20-122.294693%5D%2C%20%5B40.102718%2C%20-75.308818%5D%2C%20%5B37.745631%2C%20-120.91388%5D%2C%20%5B37.038722%2C%20-120.908714%5D%2C%20%5B38.338906%2C%20-122.760602%5D%2C%20%5B33.109949%2C%20-117.314617%5D%2C%20%5B35.223575%2C%20-80.853888%5D%2C%20%5B33.839546%2C%20-117.97637%5D%2C%20%5B28.898659%2C%20-82.373441%5D%2C%20%5B44.28786%2C%20-121.54042%5D%2C%20%5B35.963431%2C%20-119.941319%5D%2C%20%5B45.09633%2C%20-123.3663%5D%2C%20%5B41.91816%2C%20-88.06172%5D%2C%20%5B47.83462%2C%20-122.21071%5D%2C%20%5B44.025041%2C%20-69.568768%5D%2C%20%5B29.88732%2C%20-95.41219%5D%2C%20%5B36.83748%2C%20-76.15734%5D%2C%20%5B40.82873%2C%20-72.88265%5D%2C%20%5B39.05559%2C%20-94.48341%5D%2C%20%5B36.930596%2C%20-76.406869%5D%2C%20%5B28.611993%2C%20-81.206597%5D%2C%20%5B45.43923%2C%20-93.97451%5D%2C%20%5B33.96088%2C%20-117.31352%5D%2C%20%5B37.21777%2C%20-77.38792%5D%2C%20%5B38.556708%2C%20-122.694856%5D%2C%20%5B28.88798%2C%20-81.61816%5D%2C%20%5B37.826944%2C%20-122.297521%5D%2C%20%5B33.89956%2C%20-117.47298%5D%2C%20%5B33.43919%2C%20-112.39249%5D%2C%20%5B41.66946%2C%20-72.77826%5D%2C%20%5B26.054259%2C%20-80.162419%5D%2C%20%5B29.72523%2C%20-95.46022%5D%2C%20%5B25.850451%2C%20-80.318735%5D%2C%20%5B26.119314%2C%20-80.168516%5D%2C%20%5B33.30709%2C%20-87.601614%5D%2C%20%5B41.963311%2C%20-87.747762%5D%2C%20%5B41.86581%2C%20-87.92173%5D%2C%20%5B33.88473%2C%20-117.63099%5D%2C%20%5B40.778854%2C%20-73.943218%5D%2C%20%5B34.03021%2C%20-81.10112%5D%2C%20%5B40.704785%2C%20-111.90353%5D%2C%20%5B41.8777%2C%20-87.64545%5D%2C%20%5B41.30588%2C%20-111.96873%5D%2C%20%5B36.66268%2C%20-121.62412%5D%2C%20%5B35.36134%2C%20-80.85374%5D%2C%20%5B25.86639%2C%20-80.20825%5D%2C%20%5B43.7941%2C%20-93.30546%5D%2C%20%5B40.1221%2C%20-111.65929%5D%2C%20%5B42.47215%2C%20-83.11028%5D%2C%20%5B33.783355%2C%20-117.882152%5D%2C%20%5B29.71846%2C%20-95.262222%5D%2C%20%5B39.282334%2C%20-104.896689%5D%2C%20%5B37.945341%2C%20-122.507567%5D%2C%20%5B40.075832%2C%20-75.246478%5D%2C%20%5B40.675705%2C%20-74.000918%5D%2C%20%5B39.00427%2C%20-76.98104%5D%2C%20%5B30.05105%2C%20-95.69222%5D%2C%20%5B34.027662%2C%20-118.453924%5D%2C%20%5B32.926214%2C%20-96.821213%5D%2C%20%5B33.661366%2C%20-117.887206%5D%2C%20%5B34.230344%2C%20-119.134518%5D%2C%20%5B43.59358%2C%20-116.386065%5D%2C%20%5B40.830065%2C%20-73.836343%5D%2C%20%5B38.53847%2C%20-121.47389%5D%2C%20%5B40.69588%2C%20-74.259756%5D%2C%20%5B32.206846%2C%20-110.948026%5D%2C%20%5B33.034895%2C%20-96.998075%5D%2C%20%5B29.72693%2C%20-95.46451%5D%2C%20%5B35.5416%2C%20-97.60114%5D%2C%20%5B25.688353%2C%20-80.320213%5D%2C%20%5B37.86612%2C%20-122.206946%5D%2C%20%5B35.798527%2C%20-78.561598%5D%2C%20%5B36.07446%2C%20-86.63857%5D%2C%20%5B43.1325%2C%20-124.35036%5D%2C%20%5B47.59582%2C%20-122.323047%5D%2C%20%5B42.994619%2C%20-77.346622%5D%2C%20%5B40.697919%2C%20-98.859368%5D%2C%20%5B41.75555%2C%20-88.10383%5D%2C%20%5B38.52854%2C%20-121.46971%5D%2C%20%5B26.0845%2C%20-80.19643%5D%2C%20%5B41.55249%2C%20-73.59278%5D%2C%20%5B32.93044%2C%20-96.75804%5D%2C%20%5B37.60169%2C%20-77.56394%5D%2C%20%5B39.48724%2C%20-86.01516%5D%2C%20%5B39.14709%2C%20-76.64478%5D%2C%20%5B42.1903%2C%20-88.10712%5D%2C%20%5B42.430764%2C%20-83.219434%5D%2C%20%5B25.551564%2C%20-80.380262%5D%2C%20%5B39.254742%2C%20-76.687527%5D%2C%20%5B39.969817%2C%20-75.125616%5D%2C%20%5B42.839418%2C%20-71.702549%5D%2C%20%5B36.25379%2C%20-86.6498%5D%2C%20%5B40.6331%2C%20-111.89287%5D%2C%20%5B34.88864%2C%20-82.071228%5D%2C%20%5B33.229479%2C%20-80.43898%5D%2C%20%5B27.982241%2C%20-82.453844%5D%2C%20%5B25.934568%2C%20-80.215162%5D%2C%20%5B39.95401%2C%20-82.99082%5D%2C%20%5B41.33751%2C%20-72.97869%5D%2C%20%5B38.6515%2C%20-77.282112%5D%2C%20%5B36.836478%2C%20-76.137326%5D%2C%20%5B39.046078%2C%20-94.652987%5D%2C%20%5B40.66362%2C%20-122.797143%5D%2C%20%5B45.453574%2C%20-122.718161%5D%2C%20%5B29.60019%2C%20-95.24753%5D%2C%20%5B41.89099%2C%20-87.65065%5D%2C%20%5B39.41769%2C%20-75.705188%5D%2C%20%5B36.647754%2C%20-121.815404%5D%2C%20%5B40.7824%2C%20-73.43355%5D%2C%20%5B45.377796%2C%20-122.225309%5D%2C%20%5B39.88277%2C%20-104.98768%5D%2C%20%5B28.62532%2C%20-81.3865%5D%2C%20%5B32.65309%2C%20-117.06957%5D%2C%20%5B44.85987%2C%20-93.386331%5D%2C%20%5B30.235465%2C%20-97.856359%5D%2C%20%5B35.14713%2C%20-80.72419%5D%2C%20%5B43.516269%2C%20-123.519441%5D%2C%20%5B38.86813%2C%20-94.52655%5D%2C%20%5B34.44241%2C%20-119.789689%5D%2C%20%5B38.496993%2C%20-121.39055%5D%2C%20%5B33.36635%2C%20-87.00202%5D%2C%20%5B37.539972%2C%20-77.426759%5D%2C%20%5B37.732777%2C%20-120.99523%5D%2C%20%5B38.251808%2C%20-121.446551%5D%2C%20%5B33.730198%2C%20-117.985926%5D%2C%20%5B45.53739%2C%20-122.66892%5D%2C%20%5B42.74945%2C%20-121.83828%5D%2C%20%5B30.35426%2C%20-81.66844%5D%2C%20%5B34.135681%2C%20-118.360206%5D%2C%20%5B38.778871%2C%20-104.784315%5D%2C%20%5B41.03661%2C%20-81.58226%5D%2C%20%5B33.931648%2C%20-118.36852%5D%2C%20%5B39.80931%2C%20-89.57385%5D%2C%20%5B29.939449%2C%20-90.126239%5D%2C%20%5B39.10543%2C%20-121.5534%5D%2C%20%5B32.89311%2C%20-96.89794%5D%2C%20%5B38.11942%2C%20-122.28301%5D%2C%20%5B33.71025%2C%20-117.78223%5D%2C%20%5B32.751971%2C%20-97.31993%5D%2C%20%5B34.530227%2C%20-117.971265%5D%2C%20%5B27.352316%2C%20-80.374417%5D%2C%20%5B38.95243%2C%20-76.86225%5D%2C%20%5B34.16713%2C%20-118.30017%5D%2C%20%5B28.422651%2C%20-81.404776%5D%2C%20%5B38.054172%2C%20-121.259209%5D%2C%20%5B42.759719%2C%20-83.758325%5D%2C%20%5B33.78783%2C%20-117.83083%5D%2C%20%5B41.49279%2C%20-88.19775%5D%2C%20%5B26.330518%2C%20-81.809083%5D%2C%20%5B26.37815%2C%20-80.17104%5D%2C%20%5B29.730098%2C%20-95.453265%5D%2C%20%5B40.504374%2C%20-78.409157%5D%2C%20%5B33.86743%2C%20-117.54356%5D%2C%20%5B26.1071%2C%20-80.16878%5D%2C%20%5B40.81555%2C%20-73.83626%5D%2C%20%5B38.91203%2C%20-77.05029%5D%2C%20%5B47.60044%2C%20-122.3232%5D%2C%20%5B36.674919%2C%20-89.53818%5D%2C%20%5B44.97041%2C%20-93.34599%5D%2C%20%5B33.911801%2C%20-118.174556%5D%2C%20%5B29.93865%2C%20-95.38724%5D%2C%20%5B38.835443%2C%20-77.633246%5D%2C%20%5B32.670907%2C%20-96.82245%5D%2C%20%5B34.139919%2C%20-118.365735%5D%2C%20%5B33.661283%2C%20-117.873108%5D%2C%20%5B34.027372%2C%20-117.800506%5D%2C%20%5B43.04804%2C%20-77.64771%5D%2C%20%5B34.10277%2C%20-118.19773%5D%2C%20%5B32.778645%2C%20-117.112488%5D%2C%20%5B34.346454%2C%20-117.443128%5D%2C%20%5B32.819065%2C%20-117.148308%5D%2C%20%5B36.705688%2C%20-120.09294%5D%2C%20%5B42.15366%2C%20-88.02053%5D%2C%20%5B34.0652%2C%20-118.00005%5D%2C%20%5B33.91539%2C%20-84.34737%5D%2C%20%5B34.908078%2C%20-80.939676%5D%2C%20%5B42.188237%2C%20-121.817669%5D%2C%20%5B26.34586%2C%20-80.11822%5D%2C%20%5B30.573369%2C%20-87.410916%5D%2C%20%5B34.133287%2C%20-119.098373%5D%2C%20%5B39.350005%2C%20-121.60135%5D%2C%20%5B45.42969%2C%20-122.56555%5D%2C%20%5B44.63117%2C%20-123.103422%5D%2C%20%5B26.37427%2C%20-80.11654%5D%2C%20%5B43.112657%2C%20-77.549928%5D%2C%20%5B42.81608%2C%20-82.62377%5D%2C%20%5B29.94791%2C%20-90.129172%5D%2C%20%5B39.93463%2C%20-74.96638%5D%2C%20%5B44.25935%2C%20-121.179438%5D%2C%20%5B36.74735%2C%20-119.80299%5D%2C%20%5B33.00333%2C%20-96.9547%5D%2C%20%5B33.848869%2C%20-118.274296%5D%2C%20%5B37.406085%2C%20-121.910149%5D%2C%20%5B40.79871%2C%20-74.18989%5D%2C%20%5B41.02335%2C%20-73.61475%5D%2C%20%5B32.294579%2C%20-80.936611%5D%2C%20%5B39.63528%2C%20-104.8948%5D%2C%20%5B42.27551%2C%20-83.16015%5D%2C%20%5B37.284818%2C%20-79.938551%5D%2C%20%5B39.498199%2C%20-77.954789%5D%2C%20%5B30.23723%2C%20-93.227207%5D%2C%20%5B40.154044%2C%20-79.469682%5D%2C%20%5B25.94061%2C%20-80.19046%5D%2C%20%5B36.007786%2C%20-78.687263%5D%2C%20%5B41.79945%2C%20-87.63111%5D%2C%20%5B44.74153%2C%20-124.05575%5D%2C%20%5B35.119632%2C%20-92.467492%5D%2C%20%5B47.806359%2C%20-122.30688%5D%2C%20%5B37.62594%2C%20-77.55044%5D%2C%20%5B33.1177%2C%20-117.31924%5D%2C%20%5B42.40303%2C%20-77.40824%5D%2C%20%5B32.8739%2C%20-96.89827%5D%2C%20%5B40.49598%2C%20-74.29662%5D%2C%20%5B39.29479%2C%20-76.89972%5D%2C%20%5B34.802186%2C%20-82.358376%5D%2C%20%5B41.69625%2C%20-87.65882%5D%2C%20%5B42.47955%2C%20-71.20999%5D%2C%20%5B43.12157%2C%20-77.55374%5D%2C%20%5B37.191488%2C%20-93.300187%5D%2C%20%5B42.49323%2C%20-87.8529%5D%2C%20%5B33.871515%2C%20-117.544489%5D%2C%20%5B30.475646%2C%20-91.111069%5D%2C%20%5B40.587583%2C%20-76.411961%5D%2C%20%5B44.05621%2C%20-122.9403%5D%2C%20%5B34.982583%2C%20-81.97034%5D%2C%20%5B33.45132%2C%20-86.9541%5D%2C%20%5B39.14765%2C%20-84.59751%5D%2C%20%5B33.68639%2C%20-117.871836%5D%2C%20%5B40.66634%2C%20-87.03808%5D%2C%20%5B38.227649%2C%20-122.120164%5D%2C%20%5B43.10629%2C%20-76.24806%5D%2C%20%5B34.054203%2C%20-118.203196%5D%2C%20%5B33.869965%2C%20-117.681808%5D%2C%20%5B30.338325%2C%20-97.824%5D%2C%20%5B42.47576%2C%20-88.33515%5D%2C%20%5B45.3646%2C%20-119.41852%5D%2C%20%5B28.210354%2C%20-81.476398%5D%2C%20%5B41.35374%2C%20-87.81293%5D%2C%20%5B45.059363%2C%20-123.653904%5D%2C%20%5B34.052018%2C%20-80.982835%5D%2C%20%5B42.392725%2C%20-87.904304%5D%2C%20%5B33.943261%2C%20-117.084024%5D%2C%20%5B40.82851%2C%20-73.843%5D%2C%20%5B38.64356%2C%20-121.39427%5D%2C%20%5B36.692107%2C%20-119.61033%5D%2C%20%5B34.433825%2C%20-118.389202%5D%2C%20%5B40.891188%2C%20-111.896277%5D%2C%20%5B36.825754%2C%20-121.402725%5D%2C%20%5B32.844203%2C%20-117.176222%5D%2C%20%5B40.520552%2C%20-111.89098%5D%2C%20%5B38.93597%2C%20-94.61153%5D%2C%20%5B38.729236%2C%20-121.320829%5D%2C%20%5B33.749642%2C%20-118.272176%5D%2C%20%5B40.670388%2C%20-74.629515%5D%2C%20%5B45.28151%2C%20-93.549343%5D%2C%20%5B33.703426%2C%20-84.143675%5D%2C%20%5B37.717584%2C%20-120.349894%5D%2C%20%5B37.89278%2C%20-122.16739%5D%2C%20%5B32.23541%2C%20-110.80686%5D%2C%20%5B35.78593%2C%20-78.372085%5D%2C%20%5B38.8545%2C%20-94.52849%5D%2C%20%5B34.032007%2C%20-117.327128%5D%2C%20%5B38.84632%2C%20-94.52935%5D%2C%20%5B45.52178%2C%20-93.58259%5D%2C%20%5B38.737213%2C%20-120.71804%5D%2C%20%5B34.038451%2C%20-118.274001%5D%2C%20%5B41.77055%2C%20-72.68156%5D%2C%20%5B34.675028%2C%20-118.15798%5D%2C%20%5B34.144783%2C%20-118.226722%5D%2C%20%5B40.80966%2C%20-73.90284%5D%2C%20%5B28.51001%2C%20-81.24183%5D%2C%20%5B32.330271%2C%20-96.612687%5D%2C%20%5B34.173478%2C%20-118.553463%5D%2C%20%5B38.14296%2C%20-77.16683%5D%2C%20%5B35.49325%2C%20-97.5511%5D%2C%20%5B37.149077%2C%20-121.648939%5D%2C%20%5B42.25606%2C%20-83.30089%5D%2C%20%5B38.610785%2C%20-121.415263%5D%2C%20%5B33.90858%2C%20-117.452988%5D%2C%20%5B30.262701%2C%20-97.621333%5D%2C%20%5B34.440213%2C%20-117.642204%5D%2C%20%5B29.210894%2C%20-95.388659%5D%2C%20%5B37.73473%2C%20-122.40638%5D%2C%20%5B37.964179%2C%20-122.30877%5D%2C%20%5B30.13017%2C%20-81.786947%5D%2C%20%5B28.79937%2C%20-81.349344%5D%2C%20%5B38.74476%2C%20-95.00571%5D%2C%20%5B28.49891%2C%20-81.31033%5D%2C%20%5B45.59516%2C%20-93.601%5D%2C%20%5B37.99965%2C%20-122.07622%5D%2C%20%5B25.92602%2C%20-80.21037%5D%2C%20%5B34.100566%2C%20-118.47801%5D%2C%20%5B34.115692%2C%20-80.884491%5D%2C%20%5B34.018935%2C%20-118.15033%5D%2C%20%5B41.87101%2C%20-87.76894%5D%2C%20%5B32.82944%2C%20-97.0611%5D%2C%20%5B34.153022%2C%20-118.367458%5D%2C%20%5B44.887784%2C%20-93.373019%5D%2C%20%5B39.55658%2C%20-76.09854%5D%2C%20%5B29.894629%2C%20-95.203158%5D%2C%20%5B32.278309%2C%20-90.157622%5D%2C%20%5B40.75072%2C%20-73.75083%5D%2C%20%5B42.96217%2C%20-88.01804%5D%2C%20%5B33.679093%2C%20-117.759929%5D%2C%20%5B29.55965%2C%20-95.69802%5D%2C%20%5B36.90019%2C%20-121.55645%5D%2C%20%5B30.00701%2C%20-95.42734%5D%2C%20%5B44.977395%2C%20-93.344163%5D%2C%20%5B30.51343%2C%20-81.6345%5D%2C%20%5B32.760479%2C%20-82.621299%5D%2C%20%5B47.02336%2C%20-122.2962%5D%2C%20%5B36.226021%2C%20-83.036255%5D%2C%20%5B39.65439%2C%20-75.61649%5D%2C%20%5B37.6989%2C%20-121.93529%5D%2C%20%5B40.6344%2C%20-111.89536%5D%2C%20%5B39.78361%2C%20-105.099309%5D%2C%20%5B35.0553%2C%20-90.06011%5D%2C%20%5B44.212611%2C%20-123.20424%5D%2C%20%5B36.558645%2C%20-82.543605%5D%2C%20%5B33.97344%2C%20-117.33282%5D%2C%20%5B37.419317%2C%20-121.944119%5D%2C%20%5B33.95591%2C%20-118.10886%5D%2C%20%5B38.02958%2C%20-121.933279%5D%2C%20%5B40.26552%2C%20-103.81936%5D%2C%20%5B42.76862%2C%20-74.15552%5D%2C%20%5B34.00309%2C%20-117.38077%5D%2C%20%5B36.03289%2C%20-80.3869%5D%2C%20%5B40.8117%2C%20-73.49161%5D%2C%20%5B42.08494%2C%20-87.75844%5D%2C%20%5B39.144204%2C%20-76.844304%5D%2C%20%5B33.708575%2C%20-117.851595%5D%2C%20%5B44.096091%2C%20-123.167109%5D%2C%20%5B38.009266%2C%20-122.22697%5D%2C%20%5B41.71715%2C%20-112.22092%5D%2C%20%5B34.018862%2C%20-118.189214%5D%2C%20%5B45.126161%2C%20-121.591015%5D%2C%20%5B34.31153%2C%20-82.598551%5D%2C%20%5B35.64354%2C%20-97.19485%5D%2C%20%5B42.931986%2C%20-78.763634%5D%2C%20%5B29.73268%2C%20-95.65348%5D%2C%20%5B43.21048%2C%20-77.539448%5D%2C%20%5B42.27953%2C%20-71.06605%5D%2C%20%5B39.787069%2C%20-75.690378%5D%2C%20%5B34.153906%2C%20-118.157402%5D%2C%20%5B30.61418%2C%20-81.64794%5D%2C%20%5B36.739718%2C%20-119.811499%5D%2C%20%5B38.6385%2C%20-90.45534%5D%2C%20%5B47.15797%2C%20-122.35176%5D%2C%20%5B42.95838%2C%20-88.07743%5D%2C%20%5B40.66873%2C%20-73.8015%5D%2C%20%5B33.03587%2C%20-96.99916%5D%2C%20%5B37.720769%2C%20-121.655201%5D%2C%20%5B45.46078%2C%20-122.70409%5D%2C%20%5B38.429983%2C%20-122.745025%5D%2C%20%5B40.170486%2C%20-74.089844%5D%2C%20%5B38.96269%2C%20-76.86719%5D%2C%20%5B25.29217%2C%20-80.38025%5D%2C%20%5B41.764495%2C%20-72.66731%5D%2C%20%5B42.51184%2C%20-87.95172%5D%2C%20%5B34.081965%2C%20-117.200511%5D%2C%20%5B29.600204%2C%20-95.281537%5D%2C%20%5B42.030627%2C%20-88.276727%5D%2C%20%5B30.220663%2C%20-81.585241%5D%2C%20%5B44.38213%2C%20-95.12742%5D%2C%20%5B43.033142%2C%20-83.639593%5D%2C%20%5B36.16799%2C%20-86.76581%5D%2C%20%5B34.120692%2C%20-117.824689%5D%2C%20%5B36.465629%2C%20-77.61256%5D%2C%20%5B37.801637%2C%20-122.461179%5D%2C%20%5B34.0899%2C%20-80.92734%5D%2C%20%5B40.76518%2C%20-73.71796%5D%2C%20%5B34.13489%2C%20-117.64669%5D%2C%20%5B40.85375%2C%20-73.963626%5D%2C%20%5B35.68257%2C%20-97.04209%5D%2C%20%5B38.98806%2C%20-104.8139%5D%2C%20%5B33.912574%2C%20-118.225986%5D%2C%20%5B43.17683%2C%20-77.54353%5D%2C%20%5B40.783928%2C%20-74.200954%5D%2C%20%5B25.910063%2C%20-80.210076%5D%2C%20%5B34.072038%2C%20-117.907502%5D%2C%20%5B42.31484%2C%20-83.17005%5D%2C%20%5B41.183742%2C%20-80.406006%5D%2C%20%5B37.9625%2C%20-122.28643%5D%2C%20%5B42.81608%2C%20-82.62377%5D%2C%20%5B41.07149%2C%20-73.47956%5D%2C%20%5B34.813144%2C%20-118.884656%5D%2C%20%5B39.91507%2C%20-86.26956%5D%2C%20%5B26.39861%2C%20-80.09078%5D%2C%20%5B32.98744%2C%20-96.82835%5D%2C%20%5B25.625942%2C%20-80.422765%5D%2C%20%5B29.70854%2C%20-95.538761%5D%2C%20%5B44.072745%2C%20-117.002257%5D%2C%20%5B34.114106%2C%20-117.19978%5D%2C%20%5B30.141581%2C%20-81.508437%5D%2C%20%5B33.486317%2C%20-86.825627%5D%2C%20%5B32.712854%2C%20-97.320681%5D%2C%20%5B41.65257%2C%20-87.8409%5D%2C%20%5B33.491103%2C%20-112.378717%5D%2C%20%5B44.89664%2C%20-93.35008%5D%2C%20%5B32.88398%2C%20-117.22818%5D%2C%20%5B40.74548%2C%20-73.8366%5D%2C%20%5B41.6217%2C%20-87.68275%5D%2C%20%5B38.710402%2C%20-121.306496%5D%2C%20%5B40.19574%2C%20-74.75232%5D%2C%20%5B39.006496%2C%20-77.070325%5D%2C%20%5B36.283717%2C%20-86.729969%5D%2C%20%5B28.59768%2C%20-81.20764%5D%2C%20%5B33.881181%2C%20-117.596443%5D%2C%20%5B35.042105%2C%20-81.821633%5D%2C%20%5B39.810421%2C%20-78.959578%5D%2C%20%5B44.39469%2C%20-122.15344%5D%2C%20%5B32.977221%2C%20-80.070089%5D%2C%20%5B25.826281%2C%20-80.325479%5D%2C%20%5B28.567878%2C%20-81.215825%5D%2C%20%5B34.06729%2C%20-117.55432%5D%2C%20%5B37.70417%2C%20-121.73561%5D%2C%20%5B25.732196%2C%20-80.378869%5D%2C%20%5B38.35311%2C%20-78.27922%5D%2C%20%5B35.7355%2C%20-78.650336%5D%2C%20%5B33.889987%2C%20-117.509853%5D%2C%20%5B36.196456%2C%20-86.771829%5D%2C%20%5B28.796052%2C%20-81.345789%5D%2C%20%5B35.08198%2C%20-80.72658%5D%2C%20%5B37.431156%2C%20-77.431318%5D%2C%20%5B32.660674%2C%20-117.106112%5D%2C%20%5B32.61031%2C%20-117.09054%5D%2C%20%5B34.347021%2C%20-117.476956%5D%2C%20%5B37.638286%2C%20-120.899864%5D%2C%20%5B40.97503%2C%20-73.70294%5D%2C%20%5B27.308271%2C%20-82.482211%5D%2C%20%5B35.100146%2C%20-120.597594%5D%2C%20%5B34.10568%2C%20-84.747843%5D%2C%20%5B40.218061%2C%20-74.099167%5D%2C%20%5B28.240731%2C%20-82.351723%5D%2C%20%5B43.105851%2C%20-123.537928%5D%2C%20%5B35.518313%2C%20-78.558957%5D%2C%20%5B39.72565%2C%20-105.02054%5D%2C%20%5B32.801942%2C%20-97.21192%5D%2C%20%5B39.061514%2C%20-94.495242%5D%2C%20%5B34.427568%2C%20-77.960493%5D%2C%20%5B38.79773%2C%20-76.016889%5D%2C%20%5B40.52674%2C%20-111.880869%5D%2C%20%5B42.28152%2C%20-85.38126%5D%2C%20%5B37.813975%2C%20-120.271992%5D%2C%20%5B31.990996%2C%20-81.226918%5D%2C%20%5B34.159791%2C%20-117.34419%5D%2C%20%5B47.37491%2C%20-122.24405%5D%2C%20%5B46.918603%2C%20-110.716714%5D%2C%20%5B28.59812%2C%20-81.41635%5D%2C%20%5B33.461811%2C%20-112.06227%5D%2C%20%5B35.33279%2C%20-80.79906%5D%2C%20%5B40.70346%2C%20-74.24631%5D%2C%20%5B37.68873%2C%20-122.11081%5D%2C%20%5B38.247785%2C%20-122.629727%5D%2C%20%5B37.72165%2C%20-121.53746%5D%2C%20%5B34.081956%2C%20-117.71289%5D%2C%20%5B42.41582%2C%20-88.07339%5D%2C%20%5B32.456413%2C%20-91.691004%5D%2C%20%5B39.297638%2C%20-123.28348%5D%2C%20%5B32.77963%2C%20-117.097316%5D%2C%20%5B45.720179%2C%20-94.189848%5D%2C%20%5B41.32272%2C%20-72.25856%5D%2C%20%5B30.59769%2C%20-83.12288%5D%2C%20%5B37.968559%2C%20-121.245122%5D%2C%20%5B43.40722%2C%20-123.33236%5D%2C%20%5B44.03424%2C%20-116.95488%5D%2C%20%5B35.314138%2C%20-80.764164%5D%2C%20%5B35.10663%2C%20-106.64934%5D%2C%20%5B26.16682%2C%20-80.133319%5D%2C%20%5B39.874321%2C%20-75.09944%5D%2C%20%5B33.793913%2C%20-118.284054%5D%2C%20%5B37.76266%2C%20-121.43995%5D%2C%20%5B25.672398%2C%20-80.367802%5D%2C%20%5B36.706624%2C%20-119.844479%5D%2C%20%5B25.721741%2C%20-80.415468%5D%2C%20%5B37.364135%2C%20-122.124481%5D%2C%20%5B42.27103%2C%20-71.565319%5D%2C%20%5B33.976809%2C%20-117.899211%5D%2C%20%5B43.0599%2C%20-76.14698%5D%2C%20%5B40.120809%2C%20-75.11819%5D%2C%20%5B28.359084%2C%20-80.785092%5D%2C%20%5B28.50935%2C%20-81.40055%5D%2C%20%5B40.56201%2C%20-111.97365%5D%2C%20%5B29.958745%2C%20-90.085097%5D%2C%20%5B35.45949%2C%20-97.53613%5D%2C%20%5B43.05749%2C%20-76.10503%5D%2C%20%5B40.534413%2C%20-122.349546%5D%2C%20%5B45.04324%2C%20-122.97637%5D%2C%20%5B35.22223%2C%20-80.77944%5D%2C%20%5B38.82214%2C%20-76.88781%5D%2C%20%5B42.240122%2C%20-87.901786%5D%2C%20%5B33.586632%2C%20-117.623544%5D%2C%20%5B37.212226%2C%20-93.330284%5D%2C%20%5B35.89086%2C%20-86.47064%5D%2C%20%5B37.27901%2C%20-121.80648%5D%2C%20%5B36.08074%2C%20-80.31144%5D%2C%20%5B34.78945%2C%20-82.41606%5D%2C%20%5B43.8015%2C%20-92.12881%5D%2C%20%5B37.7263%2C%20-122.44602%5D%2C%20%5B45.678957%2C%20-121.288947%5D%2C%20%5B40.72404%2C%20-73.93766%5D%2C%20%5B34.222043%2C%20-119.130643%5D%2C%20%5B44.968679%2C%20-93.341726%5D%2C%20%5B33.877369%2C%20-98.492335%5D%2C%20%5B39.91294%2C%20-86.08361%5D%2C%20%5B27.871732%2C%20-82.326764%5D%2C%20%5B29.99138%2C%20-90.0562%5D%2C%20%5B32.752743%2C%20-117.124224%5D%2C%20%5B32.757749%2C%20-117.006773%5D%2C%20%5B35.97472%2C%20-78.87254%5D%2C%20%5B35.344819%2C%20-80.824012%5D%2C%20%5B42.53765%2C%20-70.94244%5D%2C%20%5B25.924433%2C%20-80.200165%5D%2C%20%5B44.80445%2C%20-93.19077%5D%2C%20%5B35.614949%2C%20-119.867656%5D%2C%20%5B36.306328%2C%20-95.708797%5D%2C%20%5B34.22738%2C%20-118.41062%5D%2C%20%5B34.787417%2C%20-86.664133%5D%2C%20%5B44.063%2C%20-123.04904%5D%2C%20%5B42.05883%2C%20-87.75727%5D%2C%20%5B37.340855%2C%20-121.968914%5D%2C%20%5B37.640254%2C%20-122.090462%5D%2C%20%5B26.188098%2C%20-80.214046%5D%2C%20%5B36.325707%2C%20-119.116962%5D%2C%20%5B30.401123%2C%20-84.302864%5D%2C%20%5B33.982023%2C%20-118.241186%5D%2C%20%5B30.757673%2C%20-85.816901%5D%2C%20%5B40.01244%2C%20-77.5377%5D%2C%20%5B45.52501%2C%20-122.68686%5D%2C%20%5B40.201109%2C%20-74.589797%5D%2C%20%5B25.878423%2C%20-80.355039%5D%2C%20%5B37.259848%2C%20-121.969256%5D%2C%20%5B34.96544%2C%20-82.23501%5D%2C%20%5B41.111397%2C%20-73.398553%5D%2C%20%5B41.247881%2C%20-73.081813%5D%2C%20%5B34.145263%2C%20-117.284159%5D%2C%20%5B33.860655%2C%20-118.313771%5D%2C%20%5B29.662642%2C%20-95.463977%5D%2C%20%5B34.071978%2C%20-118.109571%5D%2C%20%5B42.17738%2C%20-119.89896%5D%2C%20%5B34.012452%2C%20-118.162963%5D%2C%20%5B34.004792%2C%20-118.172994%5D%2C%20%5B40.634691%2C%20-74.01617%5D%2C%20%5B38.510746%2C%20-121.370017%5D%2C%20%5B40.02344%2C%20-74.26952%5D%2C%20%5B40.014899%2C%20-74.312251%5D%2C%20%5B37.661307%2C%20-77.473501%5D%2C%20%5B39.39252%2C%20-76.707197%5D%2C%20%5B39.86592%2C%20-75.1041%5D%2C%20%5B45.297448%2C%20-122.657972%5D%2C%20%5B41.455246%2C%20-72.83943%5D%2C%20%5B35.48764%2C%20-80.68837%5D%2C%20%5B25.684168%2C%20-80.396061%5D%2C%20%5B32.779201%2C%20-117.069786%5D%2C%20%5B25.883616%2C%20-80.211893%5D%2C%20%5B42.464339%2C%20-123.012641%5D%2C%20%5B47.64074%2C%20-122.29743%5D%2C%20%5B46.06802%2C%20-122.86798%5D%2C%20%5B38.773155%2C%20-121.037099%5D%2C%20%5B42.392272%2C%20-82.995823%5D%2C%20%5B39.41917%2C%20-74.564734%5D%2C%20%5B34.06678%2C%20-117.33234%5D%2C%20%5B34.152652%2C%20-117.910472%5D%2C%20%5B41.60058%2C%20-93.55845%5D%2C%20%5B26.134682%2C%20-80.169199%5D%2C%20%5B37.256196%2C%20-80.175806%5D%2C%20%5B30.46001%2C%20-81.64868%5D%2C%20%5B32.69275%2C%20-117.094995%5D%2C%20%5B33.182043%2C%20-117.230858%5D%2C%20%5B26.010791%2C%20-80.166826%5D%2C%20%5B41.72759%2C%20-88.02791%5D%2C%20%5B42.771904%2C%20-73.948518%5D%2C%20%5B37.56034%2C%20-122.0349%5D%2C%20%5B42.319966%2C%20-87.880456%5D%2C%20%5B33.835691%2C%20-117.941805%5D%2C%20%5B38.85046%2C%20-104.8171%5D%2C%20%5B41.04187%2C%20-111.95301%5D%2C%20%5B32.22526%2C%20-110.85786%5D%2C%20%5B40.01756%2C%20-77.529455%5D%2C%20%5B32.30161%2C%20-90.16692%5D%2C%20%5B38.493057%2C%20-77.93434%5D%2C%20%5B33.37266%2C%20-111.96784%5D%2C%20%5B44.94856%2C%20-95.49314%5D%2C%20%5B40.72288%2C%20-73.82757%5D%2C%20%5B37.322035%2C%20-77.442523%5D%2C%20%5B37.99184%2C%20-122.307909%5D%2C%20%5B32.92459%2C%20-96.78684%5D%2C%20%5B28.56909%2C%20-81.24487%5D%2C%20%5B43.07925%2C%20-71.472669%5D%2C%20%5B29.930898%2C%20-90.070821%5D%2C%20%5B33.87656%2C%20-118.07772%5D%2C%20%5B36.9825%2C%20-121.964444%5D%2C%20%5B42.245296%2C%20-83.193272%5D%2C%20%5B34.06811%2C%20-118.02874%5D%2C%20%5B43.26866%2C%20-88.18305%5D%2C%20%5B37.62127%2C%20-122.07718%5D%2C%20%5B34.0586%2C%20-117.78623%5D%2C%20%5B36.30946%2C%20-120.92871%5D%2C%20%5B40.96922%2C%20-73.77409%5D%2C%20%5B44.01251%2C%20-69.92105%5D%2C%20%5B33.965204%2C%20-118.237949%5D%2C%20%5B37.044167%2C%20-121.578056%5D%2C%20%5B37.243106%2C%20-121.815697%5D%2C%20%5B29.954115%2C%20-90.096708%5D%2C%20%5B32.880009%2C%20-96.771193%5D%2C%20%5B44.9473%2C%20-123.05031%5D%2C%20%5B34.564343%2C%20-78.843731%5D%2C%20%5B37.76359%2C%20-121.41837%5D%2C%20%5B26.934624%2C%20-80.150359%5D%2C%20%5B42.26913%2C%20-88.03372%5D%2C%20%5B37.70459%2C%20-121.73462%5D%2C%20%5B34.07148%2C%20-118.12294%5D%2C%20%5B45.69637%2C%20-121.82941%5D%2C%20%5B41.09782%2C%20-74.03981%5D%2C%20%5B42.35942%2C%20-87.87419%5D%2C%20%5B33.60755%2C%20-112.0651%5D%2C%20%5B37.445064%2C%20-122.119141%5D%2C%20%5B39.105571%2C%20-104.864532%5D%2C%20%5B37.856679%2C%20-120.962145%5D%2C%20%5B30.820154%2C%20-84.523812%5D%2C%20%5B33.90965%2C%20-118.1049%5D%2C%20%5B33.668374%2C%20-112.06571%5D%2C%20%5B37.76402%2C%20-122.21684%5D%2C%20%5B40.08191%2C%20-75.17164%5D%2C%20%5B33.49855%2C%20-112.11305%5D%2C%20%5B37.23915%2C%20-112.83237%5D%2C%20%5B43.680194%2C%20-123.1975%5D%2C%20%5B37.39538%2C%20-122.0687%5D%2C%20%5B40.040908%2C%20-76.308336%5D%2C%20%5B42.65788%2C%20-88.25817%5D%2C%20%5B34.89297%2C%20-111.733466%5D%2C%20%5B39.72136%2C%20-105.40967%5D%2C%20%5B39.849015%2C%20-75.439738%5D%2C%20%5B36.759359%2C%20-76.329148%5D%2C%20%5B29.81405%2C%20-95.36061%5D%2C%20%5B34.06996%2C%20-117.96287%5D%2C%20%5B41.995996%2C%20-87.86589%5D%2C%20%5B48.602984%2C%20-122.428508%5D%2C%20%5B34.23135%2C%20-118.26743%5D%2C%20%5B44.761464%2C%20-92.741016%5D%2C%20%5B40.31631%2C%20-79.76925%5D%2C%20%5B36.750308%2C%20-119.49298%5D%2C%20%5B33.181138%2C%20-117.342703%5D%2C%20%5B25.80702%2C%20-80.20572%5D%2C%20%5B33.987602%2C%20-118.137419%5D%2C%20%5B39.92639%2C%20-75.11613%5D%2C%20%5B28.734206%2C%20-81.334237%5D%2C%20%5B46.84658%2C%20-92.41739%5D%2C%20%5B40.845067%2C%20-73.910851%5D%2C%20%5B35.699075%2C%20-78.527451%5D%2C%20%5B33.73414%2C%20-84.23092%5D%2C%20%5B37.391%2C%20-122.06806%5D%2C%20%5B34.1747%2C%20-118.2214%5D%2C%20%5B34.15758%2C%20-118.4525%5D%2C%20%5B37.70013%2C%20-121.77901%5D%2C%20%5B28.339936%2C%20-82.323554%5D%2C%20%5B38.385123%2C%20-122.598714%5D%2C%20%5B40.766352%2C%20-74.204359%5D%2C%20%5B28.198366%2C%20-82.330367%5D%2C%20%5B38.82538%2C%20-104.75755%5D%2C%20%5B44.86131%2C%20-93.16095%5D%2C%20%5B34.278782%2C%20-118.420693%5D%2C%20%5B34.009723%2C%20-117.427302%5D%2C%20%5B40.847867%2C%20-73.934797%5D%2C%20%5B42.08444%2C%20-124.32555%5D%2C%20%5B41.8249%2C%20-87.63093%5D%2C%20%5B25.928132%2C%20-80.293405%5D%2C%20%5B43.16523%2C%20-71.52324%5D%2C%20%5B46.502219%2C%20-92.679752%5D%2C%20%5B27.942378%2C%20-82.335954%5D%2C%20%5B37.69422%2C%20-121.92019%5D%2C%20%5B33.800487%2C%20-117.878343%5D%2C%20%5B39.982349%2C%20-76.816627%5D%2C%20%5B39.787396%2C%20-86.133084%5D%2C%20%5B33.63292%2C%20-84.40753%5D%2C%20%5B33.85991%2C%20-118.30502%5D%2C%20%5B47.71053%2C%20-122.32972%5D%2C%20%5B35.17208%2C%20-80.85108%5D%2C%20%5B35.111839%2C%20-80.910203%5D%2C%20%5B37.66156%2C%20-113.08009%5D%2C%20%5B34.083763%2C%20-84.263967%5D%2C%20%5B37.6651%2C%20-121.696639%5D%2C%20%5B39.88192%2C%20-104.98746%5D%2C%20%5B42.47755%2C%20-87.94994%5D%2C%20%5B36.82817%2C%20-76.19528%5D%2C%20%5B45.59226%2C%20-122.68275%5D%2C%20%5B45.555929%2C%20-122.67852%5D%2C%20%5B40.752915%2C%20-73.945273%5D%2C%20%5B44.77885%2C%20-93.35309%5D%2C%20%5B34.025956%2C%20-117.778733%5D%2C%20%5B33.85684%2C%20-118.284809%5D%2C%20%5B30.354271%2C%20-91.11013%5D%2C%20%5B41.999817%2C%20-86.402047%5D%2C%20%5B30.420018%2C%20-91.137909%5D%2C%20%5B29.685283%2C%20-95.289264%5D%2C%20%5B40.59145%2C%20-76.41273%5D%2C%20%5B36.64992%2C%20-79.37966%5D%2C%20%5B35.112262%2C%20-85.266625%5D%2C%20%5B34.02535%2C%20-117.33431%5D%2C%20%5B33.922576%2C%20-117.288464%5D%2C%20%5B36.88275%2C%20-76.4309%5D%2C%20%5B33.897467%2C%20-117.490792%5D%2C%20%5B45.04212%2C%20-93.10123%5D%2C%20%5B41.923114%2C%20-83.438555%5D%2C%20%5B25.780844%2C%20-80.199885%5D%2C%20%5B39.588877%2C%20-122.209189%5D%2C%20%5B40.128325%2C%20-74.694982%5D%2C%20%5B36.891356%2C%20-76.231374%5D%2C%20%5B47.48347%2C%20-122.19562%5D%2C%20%5B45.18446%2C%20-122.84638%5D%2C%20%5B33.86146%2C%20-84.29187%5D%2C%20%5B38.505797%2C%20-121.242457%5D%2C%20%5B35.339543%2C%20-119.03947%5D%2C%20%5B35.161102%2C%20-114.574825%5D%2C%20%5B34.419296%2C%20-118.581072%5D%2C%20%5B28.45173%2C%20-81.09501%5D%2C%20%5B35.24785%2C%20-80.84564%5D%2C%20%5B36.73469%2C%20-120.13242%5D%2C%20%5B40.84612%2C%20-73.93086%5D%2C%20%5B33.663554%2C%20-117.79464%5D%2C%20%5B33.62893%2C%20-112.41822%5D%2C%20%5B33.45774%2C%20-112.34631%5D%2C%20%5B42.13184%2C%20-72.05303%5D%2C%20%5B40.08109%2C%20-74.93796%5D%2C%20%5B30.423193%2C%20-91.142252%5D%2C%20%5B27.215052%2C%20-80.400873%5D%2C%20%5B33.33427%2C%20-83.13685%5D%2C%20%5B33.742637%2C%20-117.063231%5D%2C%20%5B40.230009%2C%20-111.12066%5D%2C%20%5B35.973682%2C%20-80.50786%5D%2C%20%5B43.005563%2C%20-83.749047%5D%2C%20%5B40.735077%2C%20-74.118528%5D%2C%20%5B44.657764%2C%20-123.060219%5D%2C%20%5B34.124253%2C%20-117.201064%5D%2C%20%5B42.240527%2C%20-87.981737%5D%2C%20%5B30.558442%2C%20-91.146222%5D%2C%20%5B37.581964%2C%20-81.118937%5D%2C%20%5B32.929619%2C%20-117.240825%5D%2C%20%5B44.569868%2C%20-123.109991%5D%2C%20%5B32.909224%2C%20-96.746361%5D%2C%20%5B43.05015%2C%20-76.17071%5D%2C%20%5B33.979221%2C%20-117.548679%5D%2C%20%5B41.04191%2C%20-73.57569%5D%2C%20%5B38.551971%2C%20-121.511526%5D%2C%20%5B39.62779%2C%20-85.88479%5D%2C%20%5B34.88015%2C%20-82.20627%5D%2C%20%5B37.37746%2C%20-121.9034%5D%2C%20%5B32.65796%2C%20-96.72069%5D%2C%20%5B41.66958%2C%20-83.5148%5D%2C%20%5B41.38347%2C%20-73.48405%5D%2C%20%5B41.77426%2C%20-87.94644%5D%2C%20%5B39.53661%2C%20-119.807232%5D%2C%20%5B32.464292%2C%20-93.735005%5D%2C%20%5B38.99074%2C%20-76.37166%5D%2C%20%5B37.86397%2C%20-122.30276%5D%2C%20%5B34.019655%2C%20-117.485189%5D%2C%20%5B41.200007%2C%20-111.995455%5D%2C%20%5B41.8355%2C%20-87.68427%5D%2C%20%5B32.33747%2C%20-111.02949%5D%2C%20%5B33.92842%2C%20-118.23776%5D%2C%20%5B40.834861%2C%20-91.302448%5D%2C%20%5B34.0048%2C%20-84.5646%5D%2C%20%5B36.301735%2C%20-119.387794%5D%2C%20%5B43.146702%2C%20-89.302595%5D%2C%20%5B34.077037%2C%20-117.544683%5D%2C%20%5B37.12964%2C%20-80.36994%5D%2C%20%5B34.4284%2C%20-119.770095%5D%2C%20%5B39.70775%2C%20-104.82724%5D%2C%20%5B43.97122%2C%20-121.34643%5D%2C%20%5B33.07536%2C%20-117.070516%5D%2C%20%5B26.53433%2C%20-81.8714%5D%2C%20%5B34.453696%2C%20-118.615535%5D%2C%20%5B34.42513%2C%20-118.42361%5D%2C%20%5B38.83967%2C%20-77.44457%5D%2C%20%5B34.0238%2C%20-118.24385%5D%2C%20%5B30.36644%2C%20-81.42613%5D%2C%20%5B33.87815%2C%20-117.88049%5D%2C%20%5B37.25076%2C%20-121.90537%5D%2C%20%5B33.881463%2C%20-117.577483%5D%2C%20%5B34.073871%2C%20-80.978175%5D%2C%20%5B39.076105%2C%20-120.961242%5D%2C%20%5B32.484292%2C%20-110.922412%5D%2C%20%5B37.83312%2C%20-122.294587%5D%2C%20%5B25.78374%2C%20-80.26748%5D%2C%20%5B40.78374%2C%20-75.182415%5D%2C%20%5B34.172114%2C%20-118.46751%5D%2C%20%5B41.848365%2C%20-87.972465%5D%2C%20%5B25.884153%2C%20-80.350885%5D%2C%20%5B34.294998%2C%20-118.41471%5D%2C%20%5B34.158971%2C%20-79.754366%5D%2C%20%5B32.87535%2C%20-96.7701%5D%2C%20%5B47.65396%2C%20-117.354%5D%2C%20%5B36.167188%2C%20-119.082911%5D%2C%20%5B43.65765%2C%20-70.279761%5D%2C%20%5B35.011748%2C%20-81.103301%5D%2C%20%5B36.169025%2C%20-86.787253%5D%2C%20%5B33.754836%2C%20-117.85195%5D%2C%20%5B32.45111%2C%20-93.754501%5D%2C%20%5B38.60126%2C%20-121.50548%5D%2C%20%5B35.76301%2C%20-78.742802%5D%2C%20%5B34.05904%2C%20-118.245509%5D%2C%20%5B34.05833%2C%20-86.86635%5D%2C%20%5B46.872589%2C%20-113.995532%5D%2C%20%5B41.163946%2C%20-73.376797%5D%2C%20%5B27.388154%2C%20-82.463454%5D%2C%20%5B40.63582%2C%20-111.90506%5D%2C%20%5B33.871887%2C%20-79.761443%5D%2C%20%5B37.823385%2C%20-122.263895%5D%2C%20%5B34.083554%2C%20-118.298805%5D%2C%20%5B38.551683%2C%20-121.699518%5D%2C%20%5B41.48797%2C%20-112.01622%5D%2C%20%5B37.588181%2C%20-122.357405%5D%2C%20%5B33.59683%2C%20-112.038%5D%2C%20%5B34.134839%2C%20-117.347695%5D%2C%20%5B26.30158%2C%20-80.120598%5D%2C%20%5B29.84751%2C%20-95.3941%5D%2C%20%5B34.164015%2C%20-118.469503%5D%2C%20%5B42.420669%2C%20-117.865372%5D%2C%20%5B33.97056%2C%20-118.3753%5D%2C%20%5B33.81423%2C%20-118.17156%5D%2C%20%5B44.55514%2C%20-88.04597%5D%2C%20%5B42.303824%2C%20-122.840565%5D%2C%20%5B39.151941%2C%20-121.067189%5D%2C%20%5B42.48892%2C%20-83.08129%5D%2C%20%5B47.612%2C%20-122.3321%5D%2C%20%5B37.299052%2C%20-121.874679%5D%2C%20%5B37.994782%2C%20-122.069526%5D%2C%20%5B37.53414%2C%20-77.43%5D%2C%20%5B25.866888%2C%20-80.373269%5D%2C%20%5B41.9132%2C%20-88.12056%5D%2C%20%5B37.256065%2C%20-121.871026%5D%2C%20%5B39.119233%2C%20-94.48999%5D%2C%20%5B39.007026%2C%20-78.304919%5D%2C%20%5B44.41368%2C%20-123.06156%5D%2C%20%5B46.259558%2C%20-95.546%5D%2C%20%5B45.06154%2C%20-123.57282%5D%2C%20%5B33.46216%2C%20-112.02575%5D%2C%20%5B40.226379%2C%20-111.677269%5D%2C%20%5B38.661364%2C%20-121.22569%5D%2C%20%5B34.015575%2C%20-118.172265%5D%2C%20%5B25.882785%2C%20-80.245746%5D%2C%20%5B39.348725%2C%20-76.49983%5D%2C%20%5B44.518436%2C%20-118.629158%5D%2C%20%5B39.78139%2C%20-105.13389%5D%2C%20%5B37.651665%2C%20-122.098677%5D%2C%20%5B44.99184%2C%20-93.08941%5D%2C%20%5B34.067323%2C%20-117.554317%5D%2C%20%5B38.122692%2C%20-120.877469%5D%2C%20%5B39.880927%2C%20-78.95229%5D%2C%20%5B41.80432%2C%20-88.19724%5D%2C%20%5B40.78443%2C%20-73.63262%5D%2C%20%5B26.888748%2C%20-80.131949%5D%2C%20%5B38.023689%2C%20-121.972104%5D%2C%20%5B44.597928%2C%20-123.223692%5D%2C%20%5B37.375813%2C%20-118.422632%5D%2C%20%5B37.51815%2C%20-77.44852%5D%2C%20%5B40.690366%2C%20-74.102965%5D%2C%20%5B33.356283%2C%20-117.530676%5D%2C%20%5B30.426231%2C%20-87.271297%5D%2C%20%5B47.504179%2C%20-114.096912%5D%2C%20%5B40.73213%2C%20-111.94987%5D%2C%20%5B37.37351%2C%20-121.92644%5D%2C%20%5B34.06585%2C%20-117.322866%5D%2C%20%5B34.14054%2C%20-118.2279%5D%2C%20%5B32.72669%2C%20-97.29819%5D%2C%20%5B40.6636%2C%20-111.98146%5D%2C%20%5B30.40908%2C%20-97.71617%5D%2C%20%5B29.46214%2C%20-98.404298%5D%2C%20%5B38.73038%2C%20-83.01867%5D%2C%20%5B42.42867%2C%20-87.90394%5D%2C%20%5B34.095536%2C%20-118.244025%5D%2C%20%5B28.45165%2C%20-81.40056%5D%2C%20%5B33.927242%2C%20-117.420163%5D%2C%20%5B26.080973%2C%20-80.168582%5D%2C%20%5B33.49855%2C%20-112.11305%5D%2C%20%5B25.627093%2C%20-80.38489%5D%2C%20%5B42.16459%2C%20-70.88893%5D%2C%20%5B42.03649%2C%20-88.28725%5D%2C%20%5B37.81826%2C%20-80.11508%5D%2C%20%5B35.32224%2C%20-80.64844%5D%2C%20%5B45.542267%2C%20-122.483922%5D%2C%20%5B31.99642%2C%20-81.11524%5D%2C%20%5B45.180044%2C%20-123.20988%5D%2C%20%5B33.54568%2C%20-112.15144%5D%2C%20%5B33.48954%2C%20-82.10086%5D%2C%20%5B27.771023%2C%20-82.67125%5D%2C%20%5B37.73539%2C%20-122.40918%5D%2C%20%5B33.961733%2C%20-117.320067%5D%2C%20%5B42.38782%2C%20-83.01626%5D%2C%20%5B36.66353%2C%20-119.6819%5D%2C%20%5B33.72068%2C%20-78.929537%5D%2C%20%5B32.71821%2C%20-96.82807%5D%2C%20%5B35.02277%2C%20-85.284894%5D%2C%20%5B39.102691%2C%20-121.550642%5D%2C%20%5B33.938175%2C%20-118.309023%5D%2C%20%5B32.726801%2C%20-117.156432%5D%2C%20%5B30.414733%2C%20-87.27588%5D%2C%20%5B37.42961%2C%20-104.64145%5D%2C%20%5B39.21681%2C%20-76.70957%5D%2C%20%5B41.546698%2C%20-93.959144%5D%2C%20%5B43.999732%2C%20-117.00553%5D%2C%20%5B44.96984%2C%20-93.30537%5D%2C%20%5B40.48445%2C%20-79.90816%5D%2C%20%5B40.70731%2C%20-74.25098%5D%2C%20%5B41.059029%2C%20-73.838321%5D%2C%20%5B26.603167%2C%20-81.624916%5D%2C%20%5B34.338807%2C%20-118.507218%5D%2C%20%5B34.147044%2C%20-118.279016%5D%2C%20%5B37.8971%2C%20-122.08063%5D%2C%20%5B41.0479%2C%20-76.83146%5D%2C%20%5B35.108206%2C%20-85.23025%5D%2C%20%5B35.27187%2C%20-80.83704%5D%2C%20%5B33.881366%2C%20-117.617606%5D%2C%20%5B33.920109%2C%20-118.198694%5D%2C%20%5B40.987468%2C%20-73.673404%5D%2C%20%5B34.42727%2C%20-118.41935%5D%2C%20%5B34.03474%2C%20-118.34277%5D%2C%20%5B39.365164%2C%20-76.964628%5D%2C%20%5B40.541342%2C%20-122.352158%5D%2C%20%5B29.731859%2C%20-95.391242%5D%2C%20%5B36.200032%2C%20-86.825259%5D%2C%20%5B32.90349%2C%20-96.98812%5D%2C%20%5B39.91431%2C%20-104.8198%5D%2C%20%5B34.730101%2C%20-92.330492%5D%2C%20%5B34.05819%2C%20-118.25402%5D%2C%20%5B29.6686%2C%20-95.56027%5D%2C%20%5B45.55626%2C%20-117.49858%5D%2C%20%5B32.83988%2C%20-97.32908%5D%2C%20%5B44.733227%2C%20-93.588849%5D%2C%20%5B45.51739%2C%20-122.32796%5D%2C%20%5B33.946943%2C%20-118.291882%5D%2C%20%5B38.05414%2C%20-78.31832%5D%2C%20%5B33.68742%2C%20-117.874054%5D%2C%20%5B29.530123%2C%20-98.561214%5D%2C%20%5B47.123486%2C%20-122.434849%5D%2C%20%5B34.791759%2C%20-82.417298%5D%2C%20%5B33.748196%2C%20-117.843259%5D%2C%20%5B47.73407%2C%20-122.32601%5D%2C%20%5B45.51468%2C%20-122.5653%5D%2C%20%5B27.75962%2C%20-82.400595%5D%2C%20%5B43.73648%2C%20-85.53202%5D%2C%20%5B40.026769%2C%20-111.76114%5D%2C%20%5B42.49937%2C%20-83.54293%5D%2C%20%5B27.867759%2C%20-82.326543%5D%2C%20%5B34.304927%2C%20-118.481358%5D%2C%20%5B40.152369%2C%20-74.899193%5D%2C%20%5B46.52005%2C%20-93.56964%5D%2C%20%5B32.878197%2C%20-96.751614%5D%2C%20%5B40.096111%2C%20-75.284843%5D%2C%20%5B32.7431%2C%20-96.828286%5D%2C%20%5B42.379826%2C%20-117.850128%5D%2C%20%5B27.91648%2C%20-82.76233%5D%2C%20%5B30.448507%2C%20-90.983157%5D%2C%20%5B34.07135%2C%20-117.75929%5D%2C%20%5B31.763711%2C%20-106.268233%5D%2C%20%5B44.402675%2C%20-122.229755%5D%2C%20%5B33.7311%2C%20-117.81164%5D%2C%20%5B41.124202%2C%20-78.756889%5D%2C%20%5B39.64995%2C%20-104.91648%5D%2C%20%5B39.954744%2C%20-75.841989%5D%2C%20%5B34.063015%2C%20-118.457561%5D%2C%20%5B37.82494%2C%20-122.31361%5D%2C%20%5B38.62875%2C%20-121.405521%5D%2C%20%5B41.84938%2C%20-87.64451%5D%2C%20%5B38.77675%2C%20-90.34619%5D%2C%20%5B40.883434%2C%20-121.659207%5D%2C%20%5B40.130357%2C%20-80.332031%5D%2C%20%5B44.208218%2C%20-72.51981%5D%2C%20%5B40.84508%2C%20-73.9192%5D%2C%20%5B36.14975%2C%20-86.772969%5D%2C%20%5B36.882191%2C%20-119.729839%5D%2C%20%5B38.920607%2C%20-77.219247%5D%2C%20%5B28.207343%2C%20-81.307357%5D%2C%20%5B40.739446%2C%20-111.904226%5D%2C%20%5B40.85306%2C%20-73.96011%5D%2C%20%5B35.172787%2C%20-92.700632%5D%2C%20%5B30.36333%2C%20-97.71748%5D%2C%20%5B33.219647%2C%20-97.170447%5D%2C%20%5B42.27237%2C%20-88.19845%5D%2C%20%5B37.499175%2C%20-122.239544%5D%2C%20%5B39.799393%2C%20-76.982098%5D%2C%20%5B29.55921%2C%20-98.50192%5D%2C%20%5B25.68081%2C%20-80.389012%5D%2C%20%5B39.348725%2C%20-76.49983%5D%2C%20%5B38.010216%2C%20-78.480159%5D%2C%20%5B32.762123%2C%20-117.204781%5D%2C%20%5B42.23901%2C%20-70.98411%5D%2C%20%5B40.896513%2C%20-72.415672%5D%2C%20%5B38.86103%2C%20-77.35168%5D%2C%20%5B35.614467%2C%20-77.663565%5D%2C%20%5B30.34068%2C%20-97.75388%5D%2C%20%5B25.722713%2C%20-80.38456%5D%2C%20%5B33.49714%2C%20-82.31979%5D%2C%20%5B33.16336%2C%20-117.34217%5D%2C%20%5B38.603876%2C%20-122.590546%5D%2C%20%5B28.537676%2C%20-81.47589%5D%2C%20%5B36.14486%2C%20-86.71105%5D%2C%20%5B43.568762%2C%20-123.554981%5D%2C%20%5B32.76674%2C%20-97.06319%5D%2C%20%5B34.03049%2C%20-117.66272%5D%2C%20%5B35.205355%2C%20-114.092944%5D%2C%20%5B34.262077%2C%20-117.288923%5D%2C%20%5B29.78458%2C%20-95.64303%5D%2C%20%5B37.29176%2C%20-121.87164%5D%2C%20%5B40.84665%2C%20-73.925323%5D%2C%20%5B34.863045%2C%20-120.439789%5D%2C%20%5B32.67514%2C%20-117.1095%5D%2C%20%5B25.652264%2C%20-80.415784%5D%2C%20%5B40.779842%2C%20-77.750892%5D%2C%20%5B42.97269%2C%20-85.67539%5D%2C%20%5B40.354137%2C%20-80.391388%5D%2C%20%5B36.487892%2C%20-119.394694%5D%2C%20%5B36.955936%2C%20-120.059181%5D%2C%20%5B34.03041%2C%20-117.68082%5D%2C%20%5B38.870188%2C%20-77.26343%5D%2C%20%5B33.54591%2C%20-84.27963%5D%2C%20%5B34.34256%2C%20-119.41497%5D%2C%20%5B39.863966%2C%20-104.98748%5D%2C%20%5B41.79542%2C%20-88.33318%5D%2C%20%5B32.91211%2C%20-96.73633%5D%2C%20%5B40.89843%2C%20-74.63093%5D%2C%20%5B29.970949%2C%20-90.066958%5D%2C%20%5B29.78349%2C%20-95.47476%5D%2C%20%5B30.43053%2C%20-82.909666%5D%2C%20%5B33.089456%2C%20-117.301621%5D%2C%20%5B38.5104%2C%20-121.459826%5D%2C%20%5B33.37782%2C%20-112.04019%5D%2C%20%5B29.833637%2C%20-95.384678%5D%2C%20%5B38.38776%2C%20-109.45574%5D%2C%20%5B43.666888%2C%20-116.354495%5D%2C%20%5B33.584659%2C%20-111.87406%5D%2C%20%5B39.314178%2C%20-94.690164%5D%2C%20%5B37.79579%2C%20-122.26764%5D%2C%20%5B42.04022%2C%20-87.83076%5D%2C%20%5B48.479538%2C%20-114.509972%5D%2C%20%5B34.147385%2C%20-118.798245%5D%2C%20%5B47.388199%2C%20-122.04188%5D%2C%20%5B38.52491%2C%20-121.47179%5D%2C%20%5B35.21414%2C%20-80.88932%5D%2C%20%5B40.519903%2C%20-74.282588%5D%2C%20%5B33.876932%2C%20-118.185478%5D%2C%20%5B35.075451%2C%20-85.106502%5D%2C%20%5B39.29238%2C%20-76.61253%5D%2C%20%5B34.106481%2C%20-117.271634%5D%2C%20%5B26.15561%2C%20-81.66737%5D%2C%20%5B41.137737%2C%20-75.401326%5D%2C%20%5B30.09229%2C%20-95.43554%5D%2C%20%5B45.50948%2C%20-122.78174%5D%2C%20%5B41.366819%2C%20-72.204669%5D%2C%20%5B44.686658%2C%20-121.970799%5D%2C%20%5B32.87428%2C%20-117.106972%5D%2C%20%5B28.548064%2C%20-81.381949%5D%2C%20%5B40.71057%2C%20-74.14837%5D%2C%20%5B38.681234%2C%20-121.344676%5D%2C%20%5B40.82065%2C%20-74.11991%5D%2C%20%5B33.718189%2C%20-84.397798%5D%2C%20%5B38.62081%2C%20-121.32849%5D%2C%20%5B33.957894%2C%20-118.111628%5D%2C%20%5B34.07265%2C%20-118.05681%5D%2C%20%5B40.58785%2C%20-111.981086%5D%2C%20%5B42.68682%2C%20-86.17037%5D%2C%20%5B37.99157%2C%20-122.12611%5D%2C%20%5B41.517993%2C%20-74.113551%5D%2C%20%5B29.629729%2C%20-95.221155%5D%2C%20%5B32.190092%2C%20-90.25346%5D%2C%20%5B42.15363%2C%20-87.984928%5D%2C%20%5B37.729572%2C%20-122.18684%5D%2C%20%5B37.41088%2C%20-77.55399%5D%2C%20%5B43.05315%2C%20-85.896713%5D%2C%20%5B42.38964%2C%20-73.82624%5D%2C%20%5B40.845247%2C%20-73.913472%5D%2C%20%5B34.27252%2C%20-118.42896%5D%2C%20%5B33.28646%2C%20-111.97032%5D%2C%20%5B33.788334%2C%20-117.741862%5D%2C%20%5B39.77289%2C%20-104.83398%5D%2C%20%5B35.010787%2C%20-85.222789%5D%2C%20%5B42.461804%2C%20-91.759003%5D%2C%20%5B44.83809%2C%20-123.00842%5D%5D%2C%0A%20%20%20%20%20%20%20%20%20%20%20%20%20%20%20%20%7B%22blur%22%3A%2015%2C%20%22maxZoom%22%3A%2018%2C%20%22minOpacity%22%3A%200.5%2C%20%22radius%22%3A%2025%7D%0A%20%20%20%20%20%20%20%20%20%20%20%20%29.addTo%28map_96fa7baa921849f8b7e7a7270dec262e%29%3B%0A%20%20%20%20%20%20%20%20%0A%3C/script%3E onload=\"this.contentDocument.open();this.contentDocument.write(    decodeURIComponent(this.getAttribute('data-html')));this.contentDocument.close();\" allowfullscreen webkitallowfullscreen mozallowfullscreen></iframe></div></div>"
      ],
      "text/plain": [
       "<folium.folium.Map at 0x7fbe3ed82950>"
      ]
     },
     "execution_count": 36,
     "metadata": {},
     "output_type": "execute_result"
    }
   ],
   "source": [
    "map = folium.Map()\n",
    "HeatMap(lat_lon_pairs).add_to(map)\n",
    "map"
   ]
  }
 ],
 "metadata": {
  "kernelspec": {
   "display_name": "Python 3 (ipykernel)",
   "language": "python",
   "name": "python3"
  },
  "language_info": {
   "codemirror_mode": {
    "name": "ipython",
    "version": 3
   },
   "file_extension": ".py",
   "mimetype": "text/x-python",
   "name": "python",
   "nbconvert_exporter": "python",
   "pygments_lexer": "ipython3",
   "version": "3.9.19"
  },
  "papermill": {
   "default_parameters": {},
   "duration": 56.95518,
   "end_time": "2021-12-28T18:24:21.009732",
   "environment_variables": {},
   "exception": null,
   "input_path": "__notebook__.ipynb",
   "output_path": "__notebook__.ipynb",
   "parameters": {},
   "start_time": "2021-12-28T18:23:24.054552",
   "version": "2.3.3"
  }
 },
 "nbformat": 4,
 "nbformat_minor": 5
}
